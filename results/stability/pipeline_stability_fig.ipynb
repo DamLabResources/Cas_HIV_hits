{
 "cells": [
  {
   "cell_type": "code",
   "execution_count": 1,
   "id": "d99ad0ea-6d1a-4c40-99f1-f9d3e829a339",
   "metadata": {
    "tags": []
   },
   "outputs": [],
   "source": [
    "import numpy as np\n",
    "import matplotlib.pyplot as plt\n",
    "import pandas as pd\n",
    "import seaborn as sns"
   ]
  },
  {
   "cell_type": "code",
   "execution_count": 2,
   "id": "72bd1990-543d-41f6-b8d0-c45f752515a4",
   "metadata": {
    "tags": []
   },
   "outputs": [
    {
     "data": {
      "text/html": [
       "<div>\n",
       "<style scoped>\n",
       "    .dataframe tbody tr th:only-of-type {\n",
       "        vertical-align: middle;\n",
       "    }\n",
       "\n",
       "    .dataframe tbody tr th {\n",
       "        vertical-align: top;\n",
       "    }\n",
       "\n",
       "    .dataframe thead th {\n",
       "        text-align: right;\n",
       "    }\n",
       "</style>\n",
       "<table border=\"1\" class=\"dataframe\">\n",
       "  <thead>\n",
       "    <tr style=\"text-align: right;\">\n",
       "      <th></th>\n",
       "      <th>name</th>\n",
       "      <th>protospacer</th>\n",
       "      <th>nomination_count</th>\n",
       "      <th>seed</th>\n",
       "    </tr>\n",
       "  </thead>\n",
       "  <tbody>\n",
       "    <tr>\n",
       "      <th>0</th>\n",
       "      <td>spCas9</td>\n",
       "      <td>AAGGGCTAATTCACTCCCAA</td>\n",
       "      <td>73</td>\n",
       "      <td>0</td>\n",
       "    </tr>\n",
       "    <tr>\n",
       "      <th>1</th>\n",
       "      <td>spCas9</td>\n",
       "      <td>GCTAATTCACTCCCAACGAA</td>\n",
       "      <td>2</td>\n",
       "      <td>0</td>\n",
       "    </tr>\n",
       "    <tr>\n",
       "      <th>2</th>\n",
       "      <td>spCas9</td>\n",
       "      <td>CTAATTCACTCCCAACGAAG</td>\n",
       "      <td>2</td>\n",
       "      <td>0</td>\n",
       "    </tr>\n",
       "    <tr>\n",
       "      <th>3</th>\n",
       "      <td>spCas9</td>\n",
       "      <td>ATCTACCACACACAAGGCTA</td>\n",
       "      <td>134</td>\n",
       "      <td>0</td>\n",
       "    </tr>\n",
       "    <tr>\n",
       "      <th>4</th>\n",
       "      <td>spCas9</td>\n",
       "      <td>CTACTTCCCTGATTAGCAGA</td>\n",
       "      <td>3</td>\n",
       "      <td>0</td>\n",
       "    </tr>\n",
       "  </tbody>\n",
       "</table>\n",
       "</div>"
      ],
      "text/plain": [
       "     name           protospacer  nomination_count  seed\n",
       "0  spCas9  AAGGGCTAATTCACTCCCAA                73     0\n",
       "1  spCas9  GCTAATTCACTCCCAACGAA                 2     0\n",
       "2  spCas9  CTAATTCACTCCCAACGAAG                 2     0\n",
       "3  spCas9  ATCTACCACACACAAGGCTA               134     0\n",
       "4  spCas9  CTACTTCCCTGATTAGCAGA                 3     0"
      ]
     },
     "execution_count": 2,
     "metadata": {},
     "output_type": "execute_result"
    }
   ],
   "source": [
    "path = 'nomination_stability_exp.csv'\n",
    "stab_info = pd.read_csv(path)\n",
    "stab_info.head()"
   ]
  },
  {
   "cell_type": "code",
   "execution_count": 3,
   "id": "524be428-20a0-40dc-8bfc-75b5bc4b3eb5",
   "metadata": {
    "tags": []
   },
   "outputs": [
    {
     "name": "stdout",
     "output_type": "stream",
     "text": [
      "217447\n",
      "217851\n",
      "218369\n",
      "217629\n",
      "218495\n",
      "48377\n",
      "48209\n",
      "48513\n",
      "48311\n",
      "48619\n",
      "541761\n",
      "540824\n",
      "542972\n",
      "541169\n",
      "544553\n"
     ]
    },
    {
     "data": {
      "text/html": [
       "<div>\n",
       "<style scoped>\n",
       "    .dataframe tbody tr th:only-of-type {\n",
       "        vertical-align: middle;\n",
       "    }\n",
       "\n",
       "    .dataframe tbody tr th {\n",
       "        vertical-align: top;\n",
       "    }\n",
       "\n",
       "    .dataframe thead th {\n",
       "        text-align: right;\n",
       "    }\n",
       "</style>\n",
       "<table border=\"1\" class=\"dataframe\">\n",
       "  <thead>\n",
       "    <tr style=\"text-align: right;\">\n",
       "      <th></th>\n",
       "      <th>name</th>\n",
       "      <th>protospacer</th>\n",
       "      <th>nomination_count</th>\n",
       "      <th>seed</th>\n",
       "      <th>rank</th>\n",
       "    </tr>\n",
       "  </thead>\n",
       "  <tbody>\n",
       "    <tr>\n",
       "      <th>0</th>\n",
       "      <td>spCas9</td>\n",
       "      <td>AAGGGCTAATTCACTCCCAA</td>\n",
       "      <td>73</td>\n",
       "      <td>0</td>\n",
       "      <td>5721.5</td>\n",
       "    </tr>\n",
       "    <tr>\n",
       "      <th>1</th>\n",
       "      <td>spCas9</td>\n",
       "      <td>GCTAATTCACTCCCAACGAA</td>\n",
       "      <td>2</td>\n",
       "      <td>0</td>\n",
       "      <td>134509.0</td>\n",
       "    </tr>\n",
       "    <tr>\n",
       "      <th>2</th>\n",
       "      <td>spCas9</td>\n",
       "      <td>CTAATTCACTCCCAACGAAG</td>\n",
       "      <td>2</td>\n",
       "      <td>0</td>\n",
       "      <td>134509.0</td>\n",
       "    </tr>\n",
       "    <tr>\n",
       "      <th>3</th>\n",
       "      <td>spCas9</td>\n",
       "      <td>ATCTACCACACACAAGGCTA</td>\n",
       "      <td>134</td>\n",
       "      <td>0</td>\n",
       "      <td>3290.5</td>\n",
       "    </tr>\n",
       "    <tr>\n",
       "      <th>4</th>\n",
       "      <td>spCas9</td>\n",
       "      <td>CTACTTCCCTGATTAGCAGA</td>\n",
       "      <td>3</td>\n",
       "      <td>0</td>\n",
       "      <td>90901.0</td>\n",
       "    </tr>\n",
       "  </tbody>\n",
       "</table>\n",
       "</div>"
      ],
      "text/plain": [
       "     name           protospacer  nomination_count  seed      rank\n",
       "0  spCas9  AAGGGCTAATTCACTCCCAA                73     0    5721.5\n",
       "1  spCas9  GCTAATTCACTCCCAACGAA                 2     0  134509.0\n",
       "2  spCas9  CTAATTCACTCCCAACGAAG                 2     0  134509.0\n",
       "3  spCas9  ATCTACCACACACAAGGCTA               134     0    3290.5\n",
       "4  spCas9  CTACTTCCCTGATTAGCAGA                 3     0   90901.0"
      ]
     },
     "execution_count": 3,
     "metadata": {},
     "output_type": "execute_result"
    }
   ],
   "source": [
    "from scipy.stats import rankdata\n",
    "\n",
    "def rank_linker(ser):\n",
    "    print(len(ser))\n",
    "    return rankdata(-ser)\n",
    "\n",
    "\n",
    "stab_info['rank'] = stab_info.groupby(['name', 'seed'])['nomination_count'].transform(rank_linker)\n",
    "stab_info.head()"
   ]
  },
  {
   "cell_type": "code",
   "execution_count": 4,
   "id": "87f60407-c2ad-4d00-8f2e-e1b72e80873e",
   "metadata": {
    "tags": []
   },
   "outputs": [
    {
     "data": {
      "text/html": [
       "<div>\n",
       "<style scoped>\n",
       "    .dataframe tbody tr th:only-of-type {\n",
       "        vertical-align: middle;\n",
       "    }\n",
       "\n",
       "    .dataframe tbody tr th {\n",
       "        vertical-align: top;\n",
       "    }\n",
       "\n",
       "    .dataframe thead th {\n",
       "        text-align: right;\n",
       "    }\n",
       "</style>\n",
       "<table border=\"1\" class=\"dataframe\">\n",
       "  <thead>\n",
       "    <tr style=\"text-align: right;\">\n",
       "      <th></th>\n",
       "      <th></th>\n",
       "      <th>mean</th>\n",
       "      <th>std</th>\n",
       "      <th>count</th>\n",
       "    </tr>\n",
       "    <tr>\n",
       "      <th>name</th>\n",
       "      <th>protospacer</th>\n",
       "      <th></th>\n",
       "      <th></th>\n",
       "      <th></th>\n",
       "    </tr>\n",
       "  </thead>\n",
       "  <tbody>\n",
       "    <tr>\n",
       "      <th rowspan=\"5\" valign=\"top\">LbCas12a_Cpf1</th>\n",
       "      <th>AAAAAAGTGAATATACTTTC</th>\n",
       "      <td>10.6</td>\n",
       "      <td>1.140175</td>\n",
       "      <td>5</td>\n",
       "    </tr>\n",
       "    <tr>\n",
       "      <th>AAAAAAGTGCATATTCTTTC</th>\n",
       "      <td>16.8</td>\n",
       "      <td>1.788854</td>\n",
       "      <td>5</td>\n",
       "    </tr>\n",
       "    <tr>\n",
       "      <th>AAAAAATACAGAATGAAACA</th>\n",
       "      <td>6.8</td>\n",
       "      <td>0.836660</td>\n",
       "      <td>5</td>\n",
       "    </tr>\n",
       "    <tr>\n",
       "      <th>AAAAAATACAGGATGAAACA</th>\n",
       "      <td>7.6</td>\n",
       "      <td>1.140175</td>\n",
       "      <td>5</td>\n",
       "    </tr>\n",
       "    <tr>\n",
       "      <th>AAAAAATATAAACTAAAACA</th>\n",
       "      <td>7.2</td>\n",
       "      <td>0.836660</td>\n",
       "      <td>5</td>\n",
       "    </tr>\n",
       "  </tbody>\n",
       "</table>\n",
       "</div>"
      ],
      "text/plain": [
       "                                    mean       std  count\n",
       "name          protospacer                                \n",
       "LbCas12a_Cpf1 AAAAAAGTGAATATACTTTC  10.6  1.140175      5\n",
       "              AAAAAAGTGCATATTCTTTC  16.8  1.788854      5\n",
       "              AAAAAATACAGAATGAAACA   6.8  0.836660      5\n",
       "              AAAAAATACAGGATGAAACA   7.6  1.140175      5\n",
       "              AAAAAATATAAACTAAAACA   7.2  0.836660      5"
      ]
     },
     "execution_count": 4,
     "metadata": {},
     "output_type": "execute_result"
    }
   ],
   "source": [
    "nom_piv_df = pd.pivot_table(stab_info.query('rank < 20_000'),\n",
    "                            index = ['name', 'protospacer'],\n",
    "                            values = 'nomination_count',\n",
    "                            aggfunc = ['mean', 'std', 'count']).droplevel(axis=1, level = 1)\n",
    "\n",
    "nom_piv_df.head()"
   ]
  },
  {
   "cell_type": "code",
   "execution_count": 5,
   "id": "fe7011ae-58d6-4b17-8686-8dc0543110a4",
   "metadata": {
    "tags": []
   },
   "outputs": [
    {
     "data": {
      "text/plain": [
       "name\n",
       "LbCas12a_Cpf1    1.715702\n",
       "saCas9           0.804452\n",
       "spCas9           3.030748\n",
       "Name: std, dtype: float64"
      ]
     },
     "execution_count": 5,
     "metadata": {},
     "output_type": "execute_result"
    }
   ],
   "source": [
    "nom_piv_df.groupby(level='name')['std'].mean()"
   ]
  },
  {
   "cell_type": "code",
   "execution_count": 9,
   "id": "b2b7974f-f3aa-4b1b-82e3-1ab85767e0c1",
   "metadata": {
    "tags": []
   },
   "outputs": [],
   "source": [
    "consistency_counts = nom_piv_df.reset_index().groupby('name')['count'].value_counts()\n",
    "consistency_counts = (consistency_counts/consistency_counts.groupby(level='name').sum())*100\n",
    "consistency_counts.name = 'Percent'\n",
    "consistency_counts = consistency_counts.reset_index()"
   ]
  },
  {
   "cell_type": "code",
   "execution_count": 20,
   "id": "ffa0a4c5-0cd5-434a-b8b9-80a14128f425",
   "metadata": {
    "tags": []
   },
   "outputs": [
    {
     "data": {
      "image/png": "[encoded data removed]",
      "text/plain": [
       "<Figure size 800x400 with 2 Axes>"
      ]
     },
     "metadata": {},
     "output_type": "display_data"
    }
   ],
   "source": [
    "fig, (left_ax, right_ax) = plt.subplots(1, 2, figsize=(8, 4), sharey=True)\n",
    "\n",
    "cas_order = ['spCas9', 'saCas9', 'LbCas12a_Cpf1']\n",
    "sns.barplot(data = consistency_counts,\n",
    "                  x = 'count', \n",
    "                  hue = 'name', \n",
    "            hue_order = cas_order,\n",
    "                  y = 'Percent',\n",
    "            ax=left_ax)\n",
    "\n",
    "left_ax.set_ylim(0, 100)\n",
    "\n",
    "#left_ax.set_xticks(np.arange(0.5, 5.5, 1));\n",
    "#left_ax.set_xticklabels(int(t) for t in  np.arange(1.4, 6.4, 1))\n",
    "#left_ax.set_xlabel('Nominated')\n",
    "#left_ax.set_xlim(0.0, 5.5)\n",
    "\n",
    "sns.despine(ax=left_ax)\n",
    "\n",
    "\n",
    "sns.histplot(data = nom_piv_df.reset_index(),\n",
    "                  x = 'std', \n",
    "                  hue = 'name', hue_order = cas_order,\n",
    "                  bins = np.arange(0, 11, 1),\n",
    "                  stat = 'percent',\n",
    "                  multiple = 'dodge',\n",
    "                  #element = 'step',\n",
    "                  common_norm=False,\n",
    "                  fill = True, ax=right_ax, legend='upper right')\n",
    "\n",
    "right_ax.set_ylim(0, 100)\n",
    "\n",
    "right_ax.set_xticks(range(11));\n",
    "right_ax.set_xlabel('Nomination Count STD')\n",
    "\n",
    "sns.despine(ax=right_ax)\n",
    "\n",
    "fig.tight_layout()\n",
    "fig.savefig('nomiation_stability.png', dpi=300)"
   ]
  },
  {
   "cell_type": "code",
   "execution_count": 8,
   "id": "0a850ad9-a3ed-4442-8e43-b49d87004ddb",
   "metadata": {
    "tags": []
   },
   "outputs": [
    {
     "data": {
      "text/html": [
       "<div>\n",
       "<style scoped>\n",
       "    .dataframe tbody tr th:only-of-type {\n",
       "        vertical-align: middle;\n",
       "    }\n",
       "\n",
       "    .dataframe tbody tr th {\n",
       "        vertical-align: top;\n",
       "    }\n",
       "\n",
       "    .dataframe thead th {\n",
       "        text-align: right;\n",
       "    }\n",
       "</style>\n",
       "<table border=\"1\" class=\"dataframe\">\n",
       "  <thead>\n",
       "    <tr style=\"text-align: right;\">\n",
       "      <th></th>\n",
       "      <th>name</th>\n",
       "      <th>protospacer</th>\n",
       "      <th>validation_hit_rate</th>\n",
       "      <th>seed</th>\n",
       "    </tr>\n",
       "  </thead>\n",
       "  <tbody>\n",
       "    <tr>\n",
       "      <th>0</th>\n",
       "      <td>spCas9</td>\n",
       "      <td>AAAGGTGAAGGGGCAGTAGT</td>\n",
       "      <td>0.000000</td>\n",
       "      <td>0</td>\n",
       "    </tr>\n",
       "    <tr>\n",
       "      <th>1</th>\n",
       "      <td>spCas9</td>\n",
       "      <td>AGCAGATGATACAGTATTAG</td>\n",
       "      <td>0.027406</td>\n",
       "      <td>0</td>\n",
       "    </tr>\n",
       "    <tr>\n",
       "      <th>2</th>\n",
       "      <td>spCas9</td>\n",
       "      <td>GGGATTGGGGGGTACAGTGC</td>\n",
       "      <td>0.983957</td>\n",
       "      <td>0</td>\n",
       "    </tr>\n",
       "    <tr>\n",
       "      <th>3</th>\n",
       "      <td>spCas9</td>\n",
       "      <td>GGGGATTGGGGGGTACAGTG</td>\n",
       "      <td>0.002005</td>\n",
       "      <td>0</td>\n",
       "    </tr>\n",
       "    <tr>\n",
       "      <th>4</th>\n",
       "      <td>spCas9</td>\n",
       "      <td>GGATTGGGGGGTACAGTGCA</td>\n",
       "      <td>0.910428</td>\n",
       "      <td>0</td>\n",
       "    </tr>\n",
       "  </tbody>\n",
       "</table>\n",
       "</div>"
      ],
      "text/plain": [
       "     name           protospacer  validation_hit_rate  seed\n",
       "0  spCas9  AAAGGTGAAGGGGCAGTAGT             0.000000     0\n",
       "1  spCas9  AGCAGATGATACAGTATTAG             0.027406     0\n",
       "2  spCas9  GGGATTGGGGGGTACAGTGC             0.983957     0\n",
       "3  spCas9  GGGGATTGGGGGGTACAGTG             0.002005     0\n",
       "4  spCas9  GGATTGGGGGGTACAGTGCA             0.910428     0"
      ]
     },
     "execution_count": 8,
     "metadata": {},
     "output_type": "execute_result"
    }
   ],
   "source": [
    "hit_rate_df = pd.read_csv('validation_stability_exp.csv')\n",
    "hit_rate_df.head()"
   ]
  },
  {
   "cell_type": "code",
   "execution_count": 9,
   "id": "66d4f410-0b7f-4d50-a2ae-b29b034ce5f2",
   "metadata": {
    "tags": []
   },
   "outputs": [
    {
     "data": {
      "text/html": [
       "<div>\n",
       "<style scoped>\n",
       "    .dataframe tbody tr th:only-of-type {\n",
       "        vertical-align: middle;\n",
       "    }\n",
       "\n",
       "    .dataframe tbody tr th {\n",
       "        vertical-align: top;\n",
       "    }\n",
       "\n",
       "    .dataframe thead th {\n",
       "        text-align: right;\n",
       "    }\n",
       "</style>\n",
       "<table border=\"1\" class=\"dataframe\">\n",
       "  <thead>\n",
       "    <tr style=\"text-align: right;\">\n",
       "      <th></th>\n",
       "      <th>name</th>\n",
       "      <th>protospacer</th>\n",
       "      <th>validation_hit_rate</th>\n",
       "    </tr>\n",
       "  </thead>\n",
       "  <tbody>\n",
       "    <tr>\n",
       "      <th>0</th>\n",
       "      <td>LbCas12a_Cpf1</td>\n",
       "      <td>AAAAAAGTGAATATACTTTC</td>\n",
       "      <td>0.000267</td>\n",
       "    </tr>\n",
       "    <tr>\n",
       "      <th>1</th>\n",
       "      <td>LbCas12a_Cpf1</td>\n",
       "      <td>AAAAAAGTGCATATTCCTTC</td>\n",
       "      <td>0.000000</td>\n",
       "    </tr>\n",
       "    <tr>\n",
       "      <th>2</th>\n",
       "      <td>LbCas12a_Cpf1</td>\n",
       "      <td>AAAAAAGTGCATATTCTTTC</td>\n",
       "      <td>0.000000</td>\n",
       "    </tr>\n",
       "    <tr>\n",
       "      <th>3</th>\n",
       "      <td>LbCas12a_Cpf1</td>\n",
       "      <td>AAAAAATACAGAATGAAACA</td>\n",
       "      <td>0.000000</td>\n",
       "    </tr>\n",
       "    <tr>\n",
       "      <th>4</th>\n",
       "      <td>LbCas12a_Cpf1</td>\n",
       "      <td>AAAAAATACAGGATGAAACA</td>\n",
       "      <td>0.000000</td>\n",
       "    </tr>\n",
       "  </tbody>\n",
       "</table>\n",
       "</div>"
      ],
      "text/plain": [
       "            name           protospacer  validation_hit_rate\n",
       "0  LbCas12a_Cpf1  AAAAAAGTGAATATACTTTC             0.000267\n",
       "1  LbCas12a_Cpf1  AAAAAAGTGCATATTCCTTC             0.000000\n",
       "2  LbCas12a_Cpf1  AAAAAAGTGCATATTCTTTC             0.000000\n",
       "3  LbCas12a_Cpf1  AAAAAATACAGAATGAAACA             0.000000\n",
       "4  LbCas12a_Cpf1  AAAAAATACAGGATGAAACA             0.000000"
      ]
     },
     "execution_count": 9,
     "metadata": {},
     "output_type": "execute_result"
    }
   ],
   "source": [
    "val_piv = pd.pivot_table(hit_rate_df,\n",
    "                         index = ['name', 'protospacer'],\n",
    "                         values = 'validation_hit_rate',\n",
    "                         aggfunc = 'mean').reset_index()\n",
    "val_piv.head()"
   ]
  },
  {
   "cell_type": "code",
   "execution_count": 10,
   "id": "e45e84f8-243c-40da-8c71-9ed99c4de32b",
   "metadata": {
    "tags": []
   },
   "outputs": [
    {
     "data": {
      "text/html": [
       "<div>\n",
       "<style scoped>\n",
       "    .dataframe tbody tr th:only-of-type {\n",
       "        vertical-align: middle;\n",
       "    }\n",
       "\n",
       "    .dataframe tbody tr th {\n",
       "        vertical-align: top;\n",
       "    }\n",
       "\n",
       "    .dataframe thead th {\n",
       "        text-align: right;\n",
       "    }\n",
       "</style>\n",
       "<table border=\"1\" class=\"dataframe\">\n",
       "  <thead>\n",
       "    <tr style=\"text-align: right;\">\n",
       "      <th></th>\n",
       "      <th>name</th>\n",
       "      <th>protospacer</th>\n",
       "      <th>validation_hit_rate_seed</th>\n",
       "      <th>seed</th>\n",
       "      <th>validation_hit_rate_mean</th>\n",
       "      <th>delta</th>\n",
       "      <th>under_estimate</th>\n",
       "      <th>over_estimate</th>\n",
       "      <th>good_estimate</th>\n",
       "    </tr>\n",
       "  </thead>\n",
       "  <tbody>\n",
       "    <tr>\n",
       "      <th>0</th>\n",
       "      <td>spCas9</td>\n",
       "      <td>AAAGGTGAAGGGGCAGTAGT</td>\n",
       "      <td>0.0</td>\n",
       "      <td>0</td>\n",
       "      <td>0.0</td>\n",
       "      <td>0.0</td>\n",
       "      <td>False</td>\n",
       "      <td>False</td>\n",
       "      <td>True</td>\n",
       "    </tr>\n",
       "    <tr>\n",
       "      <th>1</th>\n",
       "      <td>spCas9</td>\n",
       "      <td>AAAGGTGAAGGGGCAGTAGT</td>\n",
       "      <td>0.0</td>\n",
       "      <td>1</td>\n",
       "      <td>0.0</td>\n",
       "      <td>0.0</td>\n",
       "      <td>False</td>\n",
       "      <td>False</td>\n",
       "      <td>True</td>\n",
       "    </tr>\n",
       "    <tr>\n",
       "      <th>2</th>\n",
       "      <td>spCas9</td>\n",
       "      <td>AAAGGTGAAGGGGCAGTAGT</td>\n",
       "      <td>0.0</td>\n",
       "      <td>2</td>\n",
       "      <td>0.0</td>\n",
       "      <td>0.0</td>\n",
       "      <td>False</td>\n",
       "      <td>False</td>\n",
       "      <td>True</td>\n",
       "    </tr>\n",
       "    <tr>\n",
       "      <th>3</th>\n",
       "      <td>spCas9</td>\n",
       "      <td>AAAGGTGAAGGGGCAGTAGT</td>\n",
       "      <td>0.0</td>\n",
       "      <td>3</td>\n",
       "      <td>0.0</td>\n",
       "      <td>0.0</td>\n",
       "      <td>False</td>\n",
       "      <td>False</td>\n",
       "      <td>True</td>\n",
       "    </tr>\n",
       "    <tr>\n",
       "      <th>4</th>\n",
       "      <td>spCas9</td>\n",
       "      <td>AAAGGTGAAGGGGCAGTAGT</td>\n",
       "      <td>0.0</td>\n",
       "      <td>4</td>\n",
       "      <td>0.0</td>\n",
       "      <td>0.0</td>\n",
       "      <td>False</td>\n",
       "      <td>False</td>\n",
       "      <td>True</td>\n",
       "    </tr>\n",
       "  </tbody>\n",
       "</table>\n",
       "</div>"
      ],
      "text/plain": [
       "     name           protospacer  validation_hit_rate_seed  seed  \\\n",
       "0  spCas9  AAAGGTGAAGGGGCAGTAGT                       0.0     0   \n",
       "1  spCas9  AAAGGTGAAGGGGCAGTAGT                       0.0     1   \n",
       "2  spCas9  AAAGGTGAAGGGGCAGTAGT                       0.0     2   \n",
       "3  spCas9  AAAGGTGAAGGGGCAGTAGT                       0.0     3   \n",
       "4  spCas9  AAAGGTGAAGGGGCAGTAGT                       0.0     4   \n",
       "\n",
       "   validation_hit_rate_mean  delta  under_estimate  over_estimate  \\\n",
       "0                       0.0    0.0           False          False   \n",
       "1                       0.0    0.0           False          False   \n",
       "2                       0.0    0.0           False          False   \n",
       "3                       0.0    0.0           False          False   \n",
       "4                       0.0    0.0           False          False   \n",
       "\n",
       "   good_estimate  \n",
       "0           True  \n",
       "1           True  \n",
       "2           True  \n",
       "3           True  \n",
       "4           True  "
      ]
     },
     "execution_count": 10,
     "metadata": {},
     "output_type": "execute_result"
    }
   ],
   "source": [
    "mdf = pd.merge(hit_rate_df, val_piv,\n",
    "               on = ['name', 'protospacer'],\n",
    "               suffixes=['_seed', '_mean'])\n",
    "mdf['delta'] = (mdf['validation_hit_rate_mean']-mdf['validation_hit_rate_seed'])\n",
    "mdf['under_estimate'] = mdf['delta']>0.01\n",
    "mdf['over_estimate'] = mdf['delta']<-0.01\n",
    "mdf['good_estimate'] = mdf['delta'].abs()<0.01\n",
    "\n",
    "mdf.head()"
   ]
  },
  {
   "cell_type": "code",
   "execution_count": 11,
   "id": "12e445d1-b50f-4563-808f-8bd6db030df9",
   "metadata": {
    "tags": []
   },
   "outputs": [
    {
     "data": {
      "text/html": [
       "<div>\n",
       "<style scoped>\n",
       "    .dataframe tbody tr th:only-of-type {\n",
       "        vertical-align: middle;\n",
       "    }\n",
       "\n",
       "    .dataframe tbody tr th {\n",
       "        vertical-align: top;\n",
       "    }\n",
       "\n",
       "    .dataframe thead th {\n",
       "        text-align: right;\n",
       "    }\n",
       "</style>\n",
       "<table border=\"1\" class=\"dataframe\">\n",
       "  <thead>\n",
       "    <tr style=\"text-align: right;\">\n",
       "      <th></th>\n",
       "      <th>good_estimate</th>\n",
       "      <th>under_estimate</th>\n",
       "      <th>over_estimate</th>\n",
       "    </tr>\n",
       "    <tr>\n",
       "      <th>name</th>\n",
       "      <th></th>\n",
       "      <th></th>\n",
       "      <th></th>\n",
       "    </tr>\n",
       "  </thead>\n",
       "  <tbody>\n",
       "    <tr>\n",
       "      <th>LbCas12a_Cpf1</th>\n",
       "      <td>99.606</td>\n",
       "      <td>0.138</td>\n",
       "      <td>0.256</td>\n",
       "    </tr>\n",
       "    <tr>\n",
       "      <th>saCas9</th>\n",
       "      <td>99.899</td>\n",
       "      <td>0.027</td>\n",
       "      <td>0.074</td>\n",
       "    </tr>\n",
       "    <tr>\n",
       "      <th>spCas9</th>\n",
       "      <td>99.018</td>\n",
       "      <td>0.401</td>\n",
       "      <td>0.581</td>\n",
       "    </tr>\n",
       "  </tbody>\n",
       "</table>\n",
       "</div>"
      ],
      "text/plain": [
       "               good_estimate  under_estimate  over_estimate\n",
       "name                                                       \n",
       "LbCas12a_Cpf1         99.606           0.138          0.256\n",
       "saCas9                99.899           0.027          0.074\n",
       "spCas9                99.018           0.401          0.581"
      ]
     },
     "execution_count": 11,
     "metadata": {},
     "output_type": "execute_result"
    }
   ],
   "source": [
    "estimate_probs = mdf.groupby('name')[['good_estimate', 'under_estimate', 'over_estimate']].mean()*100\n",
    "estimate_probs.to_excel('hit_rate_estimates.xlsx')\n",
    "estimate_probs"
   ]
  },
  {
   "cell_type": "code",
   "execution_count": 12,
   "id": "4b46f619-cb82-49fe-b8db-04a2b4c571ae",
   "metadata": {},
   "outputs": [
    {
     "data": {
      "image/png": "[encoded data removed]",
      "text/plain": [
       "<Figure size 800x400 with 2 Axes>"
      ]
     },
     "metadata": {},
     "output_type": "display_data"
    }
   ],
   "source": [
    "fig, (reg_ax, resid_ax) =  plt.subplots(1, 2, figsize=(8, 4))\n",
    "sns.scatterplot(data = mdf,\n",
    "            x = 'validation_hit_rate_mean',\n",
    "            y = 'validation_hit_rate_seed',\n",
    "            ax = reg_ax)\n",
    "reg_ax.set_ylabel('Hit Rate S(i)')\n",
    "reg_ax.set_xlabel('Hit Rate Mean')\n",
    "sns.despine(ax=reg_ax)\n",
    "\n",
    "\n",
    "sns.residplot(data = mdf,\n",
    "              x = 'validation_hit_rate_mean',\n",
    "              y = 'validation_hit_rate_seed',\n",
    "              ax = resid_ax)\n",
    "\n",
    "resid_ax.set_ylabel('Hit Rate Residual')\n",
    "resid_ax.set_xlabel('Hit Rate Mean')\n",
    "sns.despine(ax=resid_ax)\n",
    "fig.savefig('validation_stability.png', dpi=300)"
   ]
  },
  {
   "cell_type": "code",
   "execution_count": 26,
   "id": "4f7233af-7c71-4648-9609-766ecfae50f8",
   "metadata": {
    "tags": []
   },
   "outputs": [],
   "source": [
    "from sklearn.metrics import mean_absolute_error"
   ]
  },
  {
   "cell_type": "code",
   "execution_count": 17,
   "id": "ac314d81-7a8d-41a5-8918-9528d7d037e9",
   "metadata": {
    "tags": []
   },
   "outputs": [
    {
     "data": {
      "text/plain": [
       "LinregressResult(slope=0.9999999999999999, intercept=0.0, rvalue=0.9986217706835733, pvalue=0.0, stderr=9.595460880921467e-05, intercept_stderr=7.761041774756122e-06)"
      ]
     },
     "execution_count": 17,
     "metadata": {},
     "output_type": "execute_result"
    }
   ],
   "source": [
    "from scipy.stats import linregress\n",
    "\n",
    "linregress(mdf['validation_hit_rate_mean'], mdf['validation_hit_rate_seed'])"
   ]
  },
  {
   "cell_type": "code",
   "execution_count": 27,
   "id": "0743df55-9655-47b6-bb24-a5090c18c07c",
   "metadata": {
    "tags": []
   },
   "outputs": [
    {
     "data": {
      "text/plain": [
       "0.0004252085561497314"
      ]
     },
     "execution_count": 27,
     "metadata": {},
     "output_type": "execute_result"
    }
   ],
   "source": [
    "mean_absolute_error(mdf['validation_hit_rate_mean'], mdf['validation_hit_rate_seed'])"
   ]
  },
  {
   "cell_type": "code",
   "execution_count": null,
   "id": "9be7ece9-5743-4d47-8fed-2e0ae7ceb3c5",
   "metadata": {},
   "outputs": [],
   "source": []
  }
 ],
 "metadata": {
  "kernelspec": {
   "display_name": "Python 3 (ipykernel)",
   "language": "python",
   "name": "python3"
  },
  "language_info": {
   "codemirror_mode": {
    "name": "ipython",
    "version": 3
   },
   "file_extension": ".py",
   "mimetype": "text/x-python",
   "name": "python",
   "nbconvert_exporter": "python",
   "pygments_lexer": "ipython3",
   "version": "3.9.15"
  }
 },
 "nbformat": 4,
 "nbformat_minor": 5
}
