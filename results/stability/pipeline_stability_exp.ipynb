{
 "cells": [
  {
   "cell_type": "code",
   "execution_count": 1,
   "id": "0c7d4430-fea3-4267-afc4-d05c4e1a5d4f",
   "metadata": {},
   "outputs": [],
   "source": [
    "from Bio import SeqIO\n",
    "import csv\n",
    "import sys\n",
    "sys.path.append('../../code')\n",
    "import visualize\n",
    "from crispr import CasTemplate\n",
    "from pipeline import NDNFPipeline"
   ]
  },
  {
   "cell_type": "code",
   "execution_count": 2,
   "id": "780966af-b121-4ed7-ba3e-1fc698fcb64c",
   "metadata": {
    "tags": []
   },
   "outputs": [],
   "source": [
    "# The number of protospacers to extract from the nomination set.\n",
    "TOP_N_KMERS = 20_000"
   ]
  },
  {
   "cell_type": "code",
   "execution_count": 3,
   "id": "cac67727-8947-48b8-aee3-93e87792a707",
   "metadata": {
    "tags": []
   },
   "outputs": [],
   "source": [
    "CAS_LIST = [CasTemplate(pam_motif = 'NGG', typ='II', \n",
    "                  protospacer_length=20, name='spCas9'),\n",
    "            CasTemplate(pam_motif = 'NGGRRT', typ='II', \n",
    "                  protospacer_length=20, name='saCas9'),\n",
    "            CasTemplate(pam_motif = 'TTTV', typ='V', \n",
    "                  protospacer_length=20, name='LbCas12a_Cpf1')\n",
    "           ]"
   ]
  },
  {
   "cell_type": "code",
   "execution_count": 4,
   "id": "54d03ba8-c021-4c00-a650-0d7086b8d70b",
   "metadata": {
    "tags": []
   },
   "outputs": [],
   "source": [
    "NOM_FASTAS = [f'../../data/nominate.{i}.fasta' for i in range(5)]\n",
    "VAL_FASTAS = [f'../../data/test.{i}.fasta' for i in range(5)]"
   ]
  },
  {
   "cell_type": "code",
   "execution_count": 5,
   "id": "ecdc1c76-582c-4791-8ff4-aa0afb3f3324",
   "metadata": {
    "tags": []
   },
   "outputs": [],
   "source": [
    "def get_seqs(path):\n",
    "    with open(path) as handle:\n",
    "        return list(SeqIO.parse(handle, 'fasta'))"
   ]
  },
  {
   "cell_type": "code",
   "execution_count": 6,
   "id": "296c6844-96d7-4277-ba6b-abfe228f1baa",
   "metadata": {
    "tags": []
   },
   "outputs": [],
   "source": [
    "def stream_nomination_results(nom_seqs, cas, **extra_args):\n",
    "    \"Convert results to a tidy dictionary format for easy streaming\"\n",
    "    \n",
    "    nominated, proto_counts = NDNFPipeline.nominate(cas, nom_seqs, \n",
    "                                                          top_n=TOP_N_KMERS, \n",
    "                                                          return_counts=True)\n",
    "    for proto, count in proto_counts.items():\n",
    "        \n",
    "        info = {'protospacer': proto,\n",
    "                'nomination_count': count}\n",
    "        info.update(extra_args)\n",
    "        yield info"
   ]
  },
  {
   "cell_type": "code",
   "execution_count": 7,
   "id": "9e26706c-ce51-4b34-99ef-fec3d2881366",
   "metadata": {},
   "outputs": [
    {
     "name": "stdout",
     "output_type": "stream",
     "text": [
      "Seed: 0, Cas: spCas9\n"
     ]
    },
    {
     "name": "stderr",
     "output_type": "stream",
     "text": [
      "100%|██████████| 3228/3228 [00:36<00:00, 89.48it/s]\n"
     ]
    },
    {
     "name": "stdout",
     "output_type": "stream",
     "text": [
      "Seed: 0, Cas: saCas9\n"
     ]
    },
    {
     "name": "stderr",
     "output_type": "stream",
     "text": [
      "100%|██████████| 3228/3228 [00:11<00:00, 292.48it/s]\n"
     ]
    },
    {
     "name": "stdout",
     "output_type": "stream",
     "text": [
      "Seed: 0, Cas: LbCas12a_Cpf1\n"
     ]
    },
    {
     "name": "stderr",
     "output_type": "stream",
     "text": [
      "100%|██████████| 3228/3228 [00:14<00:00, 215.43it/s]\n"
     ]
    },
    {
     "name": "stdout",
     "output_type": "stream",
     "text": [
      "Seed: 1, Cas: spCas9\n"
     ]
    },
    {
     "name": "stderr",
     "output_type": "stream",
     "text": [
      "100%|██████████| 3228/3228 [00:35<00:00, 90.02it/s]\n"
     ]
    },
    {
     "name": "stdout",
     "output_type": "stream",
     "text": [
      "Seed: 1, Cas: saCas9\n"
     ]
    },
    {
     "name": "stderr",
     "output_type": "stream",
     "text": [
      "100%|██████████| 3228/3228 [00:11<00:00, 293.10it/s]\n"
     ]
    },
    {
     "name": "stdout",
     "output_type": "stream",
     "text": [
      "Seed: 1, Cas: LbCas12a_Cpf1\n"
     ]
    },
    {
     "name": "stderr",
     "output_type": "stream",
     "text": [
      "100%|██████████| 3228/3228 [00:14<00:00, 216.41it/s]\n"
     ]
    },
    {
     "name": "stdout",
     "output_type": "stream",
     "text": [
      "Seed: 2, Cas: spCas9\n"
     ]
    },
    {
     "name": "stderr",
     "output_type": "stream",
     "text": [
      "100%|██████████| 3228/3228 [00:35<00:00, 89.85it/s]\n"
     ]
    },
    {
     "name": "stdout",
     "output_type": "stream",
     "text": [
      "Seed: 2, Cas: saCas9\n"
     ]
    },
    {
     "name": "stderr",
     "output_type": "stream",
     "text": [
      "100%|██████████| 3228/3228 [00:11<00:00, 292.06it/s]\n"
     ]
    },
    {
     "name": "stdout",
     "output_type": "stream",
     "text": [
      "Seed: 2, Cas: LbCas12a_Cpf1\n"
     ]
    },
    {
     "name": "stderr",
     "output_type": "stream",
     "text": [
      "100%|██████████| 3228/3228 [00:15<00:00, 215.16it/s]\n"
     ]
    },
    {
     "name": "stdout",
     "output_type": "stream",
     "text": [
      "Seed: 3, Cas: spCas9\n"
     ]
    },
    {
     "name": "stderr",
     "output_type": "stream",
     "text": [
      "100%|██████████| 3228/3228 [00:37<00:00, 86.68it/s]\n"
     ]
    },
    {
     "name": "stdout",
     "output_type": "stream",
     "text": [
      "Seed: 3, Cas: saCas9\n"
     ]
    },
    {
     "name": "stderr",
     "output_type": "stream",
     "text": [
      "100%|██████████| 3228/3228 [00:11<00:00, 288.10it/s]\n"
     ]
    },
    {
     "name": "stdout",
     "output_type": "stream",
     "text": [
      "Seed: 3, Cas: LbCas12a_Cpf1\n"
     ]
    },
    {
     "name": "stderr",
     "output_type": "stream",
     "text": [
      "100%|██████████| 3228/3228 [00:15<00:00, 212.20it/s]\n"
     ]
    },
    {
     "name": "stdout",
     "output_type": "stream",
     "text": [
      "Seed: 4, Cas: spCas9\n"
     ]
    },
    {
     "name": "stderr",
     "output_type": "stream",
     "text": [
      "100%|██████████| 3228/3228 [00:35<00:00, 89.82it/s]\n"
     ]
    },
    {
     "name": "stdout",
     "output_type": "stream",
     "text": [
      "Seed: 4, Cas: saCas9\n"
     ]
    },
    {
     "name": "stderr",
     "output_type": "stream",
     "text": [
      "100%|██████████| 3228/3228 [00:11<00:00, 276.21it/s]\n"
     ]
    },
    {
     "name": "stdout",
     "output_type": "stream",
     "text": [
      "Seed: 4, Cas: LbCas12a_Cpf1\n"
     ]
    },
    {
     "name": "stderr",
     "output_type": "stream",
     "text": [
      "100%|██████████| 3228/3228 [00:15<00:00, 214.23it/s]\n"
     ]
    }
   ],
   "source": [
    "with open('nomination_stability_exp.csv', 'w') as handle:\n",
    "    writer = csv.DictWriter(handle, ['name', 'protospacer', 'nomination_count', \n",
    "                                     'seed'])\n",
    "    writer.writeheader()\n",
    "    for seed, nom_path in enumerate(NOM_FASTAS):\n",
    "        nom_seqs = get_seqs(nom_path)\n",
    "    \n",
    "        for cas in CASNDNFPipelineIST:\n",
    "            print(f'Seed: {seed}, Cas: {cas.name}')\n",
    "            writer.writerows(stream_nomination_results(nom_seqs, cas, seed=seed, name=cas.name))"
   ]
  },
  {
   "cell_type": "code",
   "execution_count": 11,
   "id": "2aab516b-b764-42c7-b08d-cab17f547711",
   "metadata": {},
   "outputs": [],
   "source": [
    "def stream_validation_results(ndnf_pipe, val_path, **extra_args):\n",
    "    \"Convert results to a tidy dictionary format for easy streaming\"\n",
    "    \n",
    "    _, protospacer_hit_freq = ndnf_pipe.narrow(val_path, min_rate=0, \n",
    "                                               mismatch = 2, return_freqs=True)\n",
    "    \n",
    "    for proto, score in protospacer_hit_freq.items():\n",
    "        \n",
    "        info = {'protospacer': proto,\n",
    "                'validation_hit_rate': score}\n",
    "        info.update(extra_args)\n",
    "        yield info"
   ]
  },
  {
   "cell_type": "code",
   "execution_count": 12,
   "id": "c899ccae-a5fc-4b33-bf1f-bcaebfb3a874",
   "metadata": {
    "tags": []
   },
   "outputs": [
    {
     "name": "stderr",
     "output_type": "stream",
     "text": [
      "100%|██████████| 4725/4725 [00:55<00:00, 84.95it/s]\n"
     ]
    },
    {
     "name": "stdout",
     "output_type": "stream",
     "text": [
      "Seed: 0, Cas: spCas9\n"
     ]
    },
    {
     "name": "stderr",
     "output_type": "stream",
     "text": [
      "Total 1 device(s) found.\n",
      "Loading input file...\n",
      "Reading ../../data/test.0.fasta...\n",
      "Sending data to devices...\n",
      "Chunk load started.\n",
      "1 devices selected to analyze...\n",
      "Finding pattern in chunk #1...\n",
      "Comparing patterns in chunk #1...\n",
      "50.1351 seconds elapsed.\n"
     ]
    },
    {
     "name": "stdout",
     "output_type": "stream",
     "text": [
      "Seed: 1, Cas: spCas9\n"
     ]
    },
    {
     "name": "stderr",
     "output_type": "stream",
     "text": [
      "Total 1 device(s) found.\n",
      "Loading input file...\n",
      "Reading ../../data/test.1.fasta...\n",
      "Sending data to devices...\n",
      "Chunk load started.\n",
      "1 devices selected to analyze...\n",
      "Finding pattern in chunk #1...\n",
      "Comparing patterns in chunk #1...\n",
      "49.0359 seconds elapsed.\n"
     ]
    },
    {
     "name": "stdout",
     "output_type": "stream",
     "text": [
      "Seed: 2, Cas: spCas9\n"
     ]
    },
    {
     "name": "stderr",
     "output_type": "stream",
     "text": [
      "Total 1 device(s) found.\n",
      "Loading input file...\n",
      "Reading ../../data/test.2.fasta...\n",
      "Sending data to devices...\n",
      "Chunk load started.\n",
      "1 devices selected to analyze...\n",
      "Finding pattern in chunk #1...\n",
      "Comparing patterns in chunk #1...\n",
      "49.2266 seconds elapsed.\n"
     ]
    },
    {
     "name": "stdout",
     "output_type": "stream",
     "text": [
      "Seed: 3, Cas: spCas9\n"
     ]
    },
    {
     "name": "stderr",
     "output_type": "stream",
     "text": [
      "Total 1 device(s) found.\n",
      "Loading input file...\n",
      "Reading ../../data/test.3.fasta...\n",
      "Sending data to devices...\n",
      "Chunk load started.\n",
      "1 devices selected to analyze...\n",
      "Finding pattern in chunk #1...\n",
      "Comparing patterns in chunk #1...\n",
      "49.1282 seconds elapsed.\n"
     ]
    },
    {
     "name": "stdout",
     "output_type": "stream",
     "text": [
      "Seed: 4, Cas: spCas9\n"
     ]
    },
    {
     "name": "stderr",
     "output_type": "stream",
     "text": [
      "Total 1 device(s) found.\n",
      "Loading input file...\n",
      "Reading ../../data/test.4.fasta...\n",
      "Sending data to devices...\n",
      "Chunk load started.\n",
      "1 devices selected to analyze...\n",
      "Finding pattern in chunk #1...\n",
      "Comparing patterns in chunk #1...\n",
      "60.7684 seconds elapsed.\n",
      "100%|██████████| 4725/4725 [00:16<00:00, 293.02it/s]\n",
      "Total 1 device(s) found.\n",
      "Loading input file...\n"
     ]
    },
    {
     "name": "stdout",
     "output_type": "stream",
     "text": [
      "Seed: 0, Cas: saCas9\n"
     ]
    },
    {
     "name": "stderr",
     "output_type": "stream",
     "text": [
      "Reading ../../data/test.0.fasta...\n",
      "Sending data to devices...\n",
      "Chunk load started.\n",
      "1 devices selected to analyze...\n",
      "Finding pattern in chunk #1...\n",
      "Comparing patterns in chunk #1...\n",
      "11.5205 seconds elapsed.\n"
     ]
    },
    {
     "name": "stdout",
     "output_type": "stream",
     "text": [
      "Seed: 1, Cas: saCas9\n"
     ]
    },
    {
     "name": "stderr",
     "output_type": "stream",
     "text": [
      "Total 1 device(s) found.\n",
      "Loading input file...\n",
      "Reading ../../data/test.1.fasta...\n",
      "Sending data to devices...\n",
      "Chunk load started.\n",
      "1 devices selected to analyze...\n",
      "Finding pattern in chunk #1...\n",
      "Comparing patterns in chunk #1...\n",
      "8.73849 seconds elapsed.\n"
     ]
    },
    {
     "name": "stdout",
     "output_type": "stream",
     "text": [
      "Seed: 2, Cas: saCas9\n"
     ]
    },
    {
     "name": "stderr",
     "output_type": "stream",
     "text": [
      "Total 1 device(s) found.\n",
      "Loading input file...\n",
      "Reading ../../data/test.2.fasta...\n",
      "Sending data to devices...\n",
      "Chunk load started.\n",
      "1 devices selected to analyze...\n",
      "Finding pattern in chunk #1...\n",
      "Comparing patterns in chunk #1...\n",
      "9.19179 seconds elapsed.\n"
     ]
    },
    {
     "name": "stdout",
     "output_type": "stream",
     "text": [
      "Seed: 3, Cas: saCas9\n"
     ]
    },
    {
     "name": "stderr",
     "output_type": "stream",
     "text": [
      "Total 1 device(s) found.\n",
      "Loading input file...\n",
      "Reading ../../data/test.3.fasta...\n",
      "Sending data to devices...\n",
      "Chunk load started.\n",
      "1 devices selected to analyze...\n",
      "Finding pattern in chunk #1...\n",
      "Comparing patterns in chunk #1...\n",
      "11.7795 seconds elapsed.\n"
     ]
    },
    {
     "name": "stdout",
     "output_type": "stream",
     "text": [
      "Seed: 4, Cas: saCas9\n"
     ]
    },
    {
     "name": "stderr",
     "output_type": "stream",
     "text": [
      "Total 1 device(s) found.\n",
      "Loading input file...\n",
      "Reading ../../data/test.4.fasta...\n",
      "Sending data to devices...\n",
      "Chunk load started.\n",
      "1 devices selected to analyze...\n",
      "Finding pattern in chunk #1...\n",
      "Comparing patterns in chunk #1...\n",
      "13.5793 seconds elapsed.\n",
      "100%|██████████| 4725/4725 [00:22<00:00, 213.91it/s]\n"
     ]
    },
    {
     "name": "stdout",
     "output_type": "stream",
     "text": [
      "Seed: 0, Cas: LbCas12a_Cpf1\n"
     ]
    },
    {
     "name": "stderr",
     "output_type": "stream",
     "text": [
      "Total 1 device(s) found.\n",
      "Loading input file...\n",
      "Reading ../../data/test.0.fasta...\n",
      "Sending data to devices...\n",
      "Chunk load started.\n",
      "1 devices selected to analyze...\n",
      "Finding pattern in chunk #1...\n",
      "Comparing patterns in chunk #1...\n",
      "24.1858 seconds elapsed.\n"
     ]
    },
    {
     "name": "stdout",
     "output_type": "stream",
     "text": [
      "Seed: 1, Cas: LbCas12a_Cpf1\n"
     ]
    },
    {
     "name": "stderr",
     "output_type": "stream",
     "text": [
      "Total 1 device(s) found.\n",
      "Loading input file...\n",
      "Reading ../../data/test.1.fasta...\n",
      "Sending data to devices...\n",
      "Chunk load started.\n",
      "1 devices selected to analyze...\n",
      "Finding pattern in chunk #1...\n",
      "Comparing patterns in chunk #1...\n",
      "24.4583 seconds elapsed.\n"
     ]
    },
    {
     "name": "stdout",
     "output_type": "stream",
     "text": [
      "Seed: 2, Cas: LbCas12a_Cpf1\n"
     ]
    },
    {
     "name": "stderr",
     "output_type": "stream",
     "text": [
      "Total 1 device(s) found.\n",
      "Loading input file...\n",
      "Reading ../../data/test.2.fasta...\n",
      "Sending data to devices...\n",
      "Chunk load started.\n",
      "1 devices selected to analyze...\n",
      "Finding pattern in chunk #1...\n",
      "Comparing patterns in chunk #1...\n",
      "24.423 seconds elapsed.\n"
     ]
    },
    {
     "name": "stdout",
     "output_type": "stream",
     "text": [
      "Seed: 3, Cas: LbCas12a_Cpf1\n"
     ]
    },
    {
     "name": "stderr",
     "output_type": "stream",
     "text": [
      "Total 1 device(s) found.\n",
      "Loading input file...\n",
      "Reading ../../data/test.3.fasta...\n",
      "Sending data to devices...\n",
      "Chunk load started.\n",
      "1 devices selected to analyze...\n",
      "Finding pattern in chunk #1...\n",
      "Comparing patterns in chunk #1...\n",
      "23.5345 seconds elapsed.\n"
     ]
    },
    {
     "name": "stdout",
     "output_type": "stream",
     "text": [
      "Seed: 4, Cas: LbCas12a_Cpf1\n"
     ]
    },
    {
     "name": "stderr",
     "output_type": "stream",
     "text": [
      "Total 1 device(s) found.\n",
      "Loading input file...\n",
      "Reading ../../data/test.4.fasta...\n",
      "Sending data to devices...\n",
      "Chunk load started.\n",
      "1 devices selected to analyze...\n",
      "Finding pattern in chunk #1...\n",
      "Comparing patterns in chunk #1...\n",
      "22.2578 seconds elapsed.\n"
     ]
    }
   ],
   "source": [
    "LANL_seqs = get_seqs('../../data/LANL.reference.fasta')\n",
    "\n",
    "with open('validation_stability_exp.csv', 'w') as handle:\n",
    "    writer = csv.DictWriter(handle, ['name', 'protospacer', \n",
    "                                     'validation_hit_rate', 'seed'])\n",
    "    writer.writeheader()\n",
    "    \n",
    "    for cas in CAS_LIST:\n",
    "        \n",
    "        pipe = NDNFPipeline.nominate(cas, LANL_seqs, \n",
    "                                     top_n=TOP_N_KMERS)\n",
    "        \n",
    "        for seed, val_path in enumerate(VAL_FASTAS):\n",
    "            print(f'Seed: {seed}, Cas: {cas.name}')\n",
    "            writer.writerows(stream_validation_results(pipe, val_path, seed=seed, name=cas.name))"
   ]
  },
  {
   "cell_type": "code",
   "execution_count": null,
   "id": "7222c23f-e869-4373-a07c-9fff073f9837",
   "metadata": {},
   "outputs": [],
   "source": []
  }
 ],
 "metadata": {
  "kernelspec": {
   "display_name": "Python 3 (ipykernel)",
   "language": "python",
   "name": "python3"
  },
  "language_info": {
   "codemirror_mode": {
    "name": "ipython",
    "version": 3
   },
   "file_extension": ".py",
   "mimetype": "text/x-python",
   "name": "python",
   "nbconvert_exporter": "python",
   "pygments_lexer": "ipython3",
   "version": "3.9.15"
  }
 },
 "nbformat": 4,
 "nbformat_minor": 5
}
