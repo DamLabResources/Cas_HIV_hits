{
 "cells": [
  {
   "cell_type": "code",
   "execution_count": 1,
   "id": "b5962632-31dc-4e65-9ee9-8c9dd45bbbac",
   "metadata": {},
   "outputs": [],
   "source": [
    "from Bio import SeqIO\n",
    "import matplotlib.pyplot as plt\n",
    "import seaborn as sns\n",
    "import numpy as np\n",
    "import pandas as pd\n",
    "import os"
   ]
  },
  {
   "cell_type": "code",
   "execution_count": 2,
   "id": "bda05038-80da-46d8-93d7-1e12d45c11df",
   "metadata": {},
   "outputs": [],
   "source": [
    "import sys\n",
    "sys.path.append('../../code')\n",
    "import visualize\n",
    "from crispr import CasTemplate\n",
    "from pipeline import NDNFPipeline"
   ]
  },
  {
   "cell_type": "code",
   "execution_count": 3,
   "id": "dd6ce56b-43ac-472a-b33a-62a31f0f0a63",
   "metadata": {},
   "outputs": [],
   "source": [
    "cas_templates = [CasTemplate(pam_motif = 'NNGRRT', typ='II', \n",
    "                             protospacer_length=20, name='SaCas9-WT'),\n",
    "                 CasTemplate(pam_motif = 'NGG', typ='II', \n",
    "                             protospacer_length=20, name='SpCas9-WT'),\n",
    "                 CasTemplate(pam_motif = 'TTTN', typ='V',\n",
    "                             protospacer_length=20, name='LbCas12a_Cpf1')\n",
    "                 ]                 "
   ]
  },
  {
   "cell_type": "code",
   "execution_count": 4,
   "id": "32fae147-cd91-4376-9a6d-280b2b728fcc",
   "metadata": {},
   "outputs": [],
   "source": [
    "# Path to a collection of HIV sequences to use as the nomination set.\n",
    "NOMINATE_FASTA = '../../data/nominate.fasta'\n",
    "\n",
    "# Path to a collection of HIV sequences to use as the validation set.\n",
    "VALIDATE_FASTA = '../../data/test.fasta'\n",
    "\n",
    "# Path to a single HIV sequence to use as the common reference position set.\n",
    "REFERENCE_FASTA = '../../data/hxb2.fasta'\n",
    "\n",
    "# Path to an off-target reference genome.\n",
    "OFFTARGET_REF = '../../data/GRCh38.fna'\n",
    "\n",
    "# The number of protospacers to extract from the nomination set.\n",
    "TOP_N_KMERS = 20_000\n",
    "\n",
    "# The target number of protospacers after diversification.\n",
    "DIVERSITY_TARGET = TOP_N_KMERS*2\n",
    "\n",
    "MISMATCH = 2\n",
    "BROAD_SPECTRUM = 0.9\n",
    "MAX_OFF = 0\n",
    "\n"
   ]
  },
  {
   "cell_type": "code",
   "execution_count": 5,
   "id": "db613898-d81c-454c-94c4-f0f2e9f1e6df",
   "metadata": {},
   "outputs": [
    {
     "name": "stdout",
     "output_type": "stream",
     "text": [
      "Loading 3228 sequences with a total of 28.73 Mbp for nomination.\n"
     ]
    }
   ],
   "source": [
    "with open(NOMINATE_FASTA) as handle:\n",
    "    nomination_seqs = list(SeqIO.parse(handle, 'fasta'))\n",
    "num_nom = len(nomination_seqs)\n",
    "len_nom = sum(len(seqR.seq) for seqR in nomination_seqs)/1_000_000\n",
    "print(f'Loading {num_nom} sequences with a total of {len_nom:0.2f} Mbp for nomination.')"
   ]
  },
  {
   "cell_type": "code",
   "execution_count": 6,
   "id": "e5e8f51a-31e6-4394-94ae-4d872073ab90",
   "metadata": {},
   "outputs": [],
   "source": [
    "MUT_DATA = pd.read_csv('../../data/mutation_scores.csv')\n",
    "\n",
    "def rc_scores(start, width=20):\n",
    "    \n",
    "    mask = (MUT_DATA['Position'] <= (start+width)) & (MUT_DATA['Position'] >= (start-width))\n",
    "    mean_rc = MUT_DATA.loc[mask, 'RC Index'].mean()\n",
    "    \n",
    "    return mean_rc\n",
    "\n",
    "def lethal_count(start, width=20):\n",
    "    \n",
    "    mask = (MUT_DATA['Position'] <= (start+width)) & (MUT_DATA['Position'] >= (start-width))\n",
    "    num_lethal = (MUT_DATA.loc[mask, 'Effect'] == \"lethal\").sum()\n",
    "    \n",
    "    return num_lethal\n",
    "\n",
    "def process_cas(cas, mismatch, protospacer_counts, diversed, ref_diversed):\n",
    "    \n",
    "    narrowed, protospacer_hist_freq = diversed.narrow(VALIDATE_FASTA, min_rate=0.5, return_freqs=True,\n",
    "                                                      mismatch=mismatch)\n",
    "    good_hits, off_target_counts = narrowed.filter(OFFTARGET_REF, \n",
    "                                               mismatch = mismatch, \n",
    "                                               return_counts=True)\n",
    "    \n",
    "    ref_diversed['on_target_freq'] = ref_diversed['protospacer'].map(protospacer_hist_freq.get)\n",
    "    ref_diversed['off_target_hits'] = ref_diversed['protospacer'].map(off_target_counts.get)\n",
    "    ref_diversed['mismatch'] = mismatch\n",
    "    return ref_diversed\n",
    "    "
   ]
  },
  {
   "cell_type": "code",
   "execution_count": 7,
   "id": "80da4acd-0ed8-4e43-92d1-824b6d616d45",
   "metadata": {},
   "outputs": [
    {
     "name": "stdout",
     "output_type": "stream",
     "text": [
      "Processing SaCas9-WT\n"
     ]
    },
    {
     "name": "stderr",
     "output_type": "stream",
     "text": [
      "100%|██████████| 3228/3228 [00:19<00:00, 166.87it/s]\n",
      "100%|██████████| 40000/40000 [07:03<00:00, 94.53it/s]    \n",
      "Total 1 device(s) found.\n",
      "Loading input file...\n",
      "Reading ../../data/hxb2.fasta...\n",
      "Sending data to devices...\n",
      "Chunk load started.\n",
      "1 devices selected to analyze...\n",
      "Finding pattern in chunk #1...\n",
      "Comparing patterns in chunk #1...\n",
      "35.9129 seconds elapsed.\n"
     ]
    },
    {
     "name": "stdout",
     "output_type": "stream",
     "text": [
      "Processing SaCas9-WT 0\n"
     ]
    },
    {
     "name": "stderr",
     "output_type": "stream",
     "text": [
      "Total 1 device(s) found.\n",
      "Loading input file...\n",
      "Reading ../../data/test.fasta...\n",
      "Sending data to devices...\n",
      "Chunk load started.\n",
      "1 devices selected to analyze...\n",
      "Finding pattern in chunk #1...\n",
      "Comparing patterns in chunk #1...\n",
      "47.6974 seconds elapsed.\n",
      "Total 1 device(s) found.\n",
      "Loading input file...\n",
      "Reading ../../data/GRCh38.fna...\n",
      "Sending data to devices...\n",
      "Chunk load started.\n",
      "1 devices selected to analyze...\n",
      "Finding pattern in chunk #1...\n",
      "Comparing patterns in chunk #1...\n",
      "1 devices selected to analyze...\n",
      "Finding pattern in chunk #2...\n",
      "Comparing patterns in chunk #2...\n",
      "31.7711 seconds elapsed.\n"
     ]
    },
    {
     "name": "stdout",
     "output_type": "stream",
     "text": [
      "Processing SaCas9-WT 1\n"
     ]
    },
    {
     "name": "stderr",
     "output_type": "stream",
     "text": [
      "Total 1 device(s) found.\n",
      "Loading input file...\n",
      "Reading ../../data/test.fasta...\n",
      "Sending data to devices...\n",
      "Chunk load started.\n",
      "1 devices selected to analyze...\n",
      "Finding pattern in chunk #1...\n",
      "Comparing patterns in chunk #1...\n",
      "52.5822 seconds elapsed.\n",
      "Total 1 device(s) found.\n",
      "Loading input file...\n",
      "Reading ../../data/GRCh38.fna...\n",
      "Sending data to devices...\n",
      "Chunk load started.\n",
      "1 devices selected to analyze...\n",
      "Finding pattern in chunk #1...\n",
      "Comparing patterns in chunk #1...\n",
      "1 devices selected to analyze...\n",
      "Finding pattern in chunk #2...\n",
      "Comparing patterns in chunk #2...\n",
      "32.4086 seconds elapsed.\n"
     ]
    },
    {
     "name": "stdout",
     "output_type": "stream",
     "text": [
      "Processing SaCas9-WT 2\n"
     ]
    },
    {
     "name": "stderr",
     "output_type": "stream",
     "text": [
      "Total 1 device(s) found.\n",
      "Loading input file...\n",
      "Reading ../../data/test.fasta...\n",
      "Sending data to devices...\n",
      "Chunk load started.\n",
      "1 devices selected to analyze...\n",
      "Finding pattern in chunk #1...\n",
      "Comparing patterns in chunk #1...\n",
      "60.5719 seconds elapsed.\n",
      "Total 1 device(s) found.\n",
      "Loading input file...\n",
      "Reading ../../data/GRCh38.fna...\n",
      "Sending data to devices...\n",
      "Chunk load started.\n",
      "1 devices selected to analyze...\n",
      "Finding pattern in chunk #1...\n",
      "Comparing patterns in chunk #1...\n",
      "1 devices selected to analyze...\n",
      "Finding pattern in chunk #2...\n",
      "Comparing patterns in chunk #2...\n",
      "43.3862 seconds elapsed.\n"
     ]
    },
    {
     "name": "stdout",
     "output_type": "stream",
     "text": [
      "Processing SaCas9-WT 3\n"
     ]
    },
    {
     "name": "stderr",
     "output_type": "stream",
     "text": [
      "Total 1 device(s) found.\n",
      "Loading input file...\n",
      "Reading ../../data/test.fasta...\n",
      "Sending data to devices...\n",
      "Chunk load started.\n",
      "1 devices selected to analyze...\n",
      "Finding pattern in chunk #1...\n",
      "Comparing patterns in chunk #1...\n",
      "67.9021 seconds elapsed.\n",
      "Total 1 device(s) found.\n",
      "Loading input file...\n",
      "Reading ../../data/GRCh38.fna...\n",
      "Sending data to devices...\n",
      "Chunk load started.\n",
      "1 devices selected to analyze...\n",
      "Finding pattern in chunk #1...\n",
      "Comparing patterns in chunk #1...\n",
      "1 devices selected to analyze...\n",
      "Finding pattern in chunk #2...\n",
      "Comparing patterns in chunk #2...\n",
      "77.1494 seconds elapsed.\n"
     ]
    },
    {
     "name": "stdout",
     "output_type": "stream",
     "text": [
      "Processing SaCas9-WT 4\n"
     ]
    },
    {
     "name": "stderr",
     "output_type": "stream",
     "text": [
      "Total 1 device(s) found.\n",
      "Loading input file...\n",
      "Reading ../../data/test.fasta...\n",
      "Sending data to devices...\n",
      "Chunk load started.\n",
      "1 devices selected to analyze...\n",
      "Finding pattern in chunk #1...\n",
      "Comparing patterns in chunk #1...\n",
      "76.3664 seconds elapsed.\n",
      "Total 1 device(s) found.\n",
      "Loading input file...\n",
      "Reading ../../data/GRCh38.fna...\n",
      "Sending data to devices...\n",
      "Chunk load started.\n",
      "1 devices selected to analyze...\n",
      "Finding pattern in chunk #1...\n",
      "Comparing patterns in chunk #1...\n",
      "1 devices selected to analyze...\n",
      "Finding pattern in chunk #2...\n",
      "Comparing patterns in chunk #2...\n",
      "126.698 seconds elapsed.\n"
     ]
    },
    {
     "name": "stdout",
     "output_type": "stream",
     "text": [
      "Processing SpCas9-WT\n"
     ]
    },
    {
     "name": "stderr",
     "output_type": "stream",
     "text": [
      "100%|██████████| 3228/3228 [00:35<00:00, 90.38it/s]\n",
      "100%|██████████| 40000/40000 [07:06<00:00, 93.85it/s]    \n",
      "Total 1 device(s) found.\n",
      "Loading input file...\n",
      "Reading ../../data/hxb2.fasta...\n",
      "Sending data to devices...\n",
      "Chunk load started.\n",
      "1 devices selected to analyze...\n",
      "Finding pattern in chunk #1...\n",
      "Comparing patterns in chunk #1...\n",
      "37.013 seconds elapsed.\n"
     ]
    },
    {
     "name": "stdout",
     "output_type": "stream",
     "text": [
      "Processing SpCas9-WT 0\n"
     ]
    },
    {
     "name": "stderr",
     "output_type": "stream",
     "text": [
      "Total 1 device(s) found.\n",
      "Loading input file...\n",
      "Reading ../../data/test.fasta...\n",
      "Sending data to devices...\n",
      "Chunk load started.\n",
      "1 devices selected to analyze...\n",
      "Finding pattern in chunk #1...\n",
      "Comparing patterns in chunk #1...\n",
      "51.7379 seconds elapsed.\n",
      "Total 1 device(s) found.\n",
      "Loading input file...\n",
      "Reading ../../data/GRCh38.fna...\n",
      "Sending data to devices...\n",
      "Chunk load started.\n",
      "1 devices selected to analyze...\n",
      "Finding pattern in chunk #1...\n",
      "Comparing patterns in chunk #1...\n",
      "1 devices selected to analyze...\n",
      "Finding pattern in chunk #2...\n",
      "Comparing patterns in chunk #2...\n",
      "43.4341 seconds elapsed.\n"
     ]
    },
    {
     "name": "stdout",
     "output_type": "stream",
     "text": [
      "Processing SpCas9-WT 1\n"
     ]
    },
    {
     "name": "stderr",
     "output_type": "stream",
     "text": [
      "Total 1 device(s) found.\n",
      "Loading input file...\n",
      "Reading ../../data/test.fasta...\n",
      "Sending data to devices...\n",
      "Chunk load started.\n",
      "1 devices selected to analyze...\n",
      "Finding pattern in chunk #1...\n",
      "Comparing patterns in chunk #1...\n",
      "75.0077 seconds elapsed.\n",
      "Total 1 device(s) found.\n",
      "Loading input file...\n",
      "Reading ../../data/GRCh38.fna...\n",
      "Sending data to devices...\n",
      "Chunk load started.\n",
      "1 devices selected to analyze...\n",
      "Finding pattern in chunk #1...\n",
      "Comparing patterns in chunk #1...\n",
      "1 devices selected to analyze...\n",
      "Finding pattern in chunk #2...\n",
      "Comparing patterns in chunk #2...\n",
      "85.3757 seconds elapsed.\n"
     ]
    },
    {
     "name": "stdout",
     "output_type": "stream",
     "text": [
      "Processing SpCas9-WT 2\n"
     ]
    },
    {
     "name": "stderr",
     "output_type": "stream",
     "text": [
      "Total 1 device(s) found.\n",
      "Loading input file...\n",
      "Reading ../../data/test.fasta...\n",
      "Sending data to devices...\n",
      "Chunk load started.\n",
      "1 devices selected to analyze...\n",
      "Finding pattern in chunk #1...\n",
      "Comparing patterns in chunk #1...\n",
      "103.908 seconds elapsed.\n",
      "Total 1 device(s) found.\n",
      "Loading input file...\n",
      "Reading ../../data/GRCh38.fna...\n",
      "Sending data to devices...\n",
      "Chunk load started.\n",
      "1 devices selected to analyze...\n",
      "Finding pattern in chunk #1...\n",
      "Comparing patterns in chunk #1...\n",
      "1 devices selected to analyze...\n",
      "Finding pattern in chunk #2...\n",
      "Comparing patterns in chunk #2...\n",
      "306.279 seconds elapsed.\n"
     ]
    },
    {
     "name": "stdout",
     "output_type": "stream",
     "text": [
      "Processing SpCas9-WT 3\n"
     ]
    },
    {
     "name": "stderr",
     "output_type": "stream",
     "text": [
      "Total 1 device(s) found.\n",
      "Loading input file...\n",
      "Reading ../../data/test.fasta...\n",
      "Sending data to devices...\n",
      "Chunk load started.\n",
      "1 devices selected to analyze...\n",
      "Finding pattern in chunk #1...\n",
      "Comparing patterns in chunk #1...\n",
      "134.333 seconds elapsed.\n",
      "Total 1 device(s) found.\n",
      "Loading input file...\n",
      "Reading ../../data/GRCh38.fna...\n",
      "Sending data to devices...\n",
      "Chunk load started.\n",
      "1 devices selected to analyze...\n",
      "Finding pattern in chunk #1...\n",
      "Comparing patterns in chunk #1...\n",
      "1 devices selected to analyze...\n",
      "Finding pattern in chunk #2...\n",
      "Comparing patterns in chunk #2...\n",
      "753.436 seconds elapsed.\n"
     ]
    },
    {
     "name": "stdout",
     "output_type": "stream",
     "text": [
      "Processing SpCas9-WT 4\n"
     ]
    },
    {
     "name": "stderr",
     "output_type": "stream",
     "text": [
      "Total 1 device(s) found.\n",
      "Loading input file...\n",
      "Reading ../../data/test.fasta...\n",
      "Sending data to devices...\n",
      "Chunk load started.\n",
      "1 devices selected to analyze...\n",
      "Finding pattern in chunk #1...\n",
      "Comparing patterns in chunk #1...\n",
      "167.251 seconds elapsed.\n",
      "Total 1 device(s) found.\n",
      "Loading input file...\n",
      "Reading ../../data/GRCh38.fna...\n",
      "Sending data to devices...\n",
      "Chunk load started.\n",
      "1 devices selected to analyze...\n",
      "Finding pattern in chunk #1...\n",
      "Comparing patterns in chunk #1...\n",
      "1 devices selected to analyze...\n",
      "Finding pattern in chunk #2...\n",
      "Comparing patterns in chunk #2...\n",
      "1263.39 seconds elapsed.\n"
     ]
    },
    {
     "name": "stdout",
     "output_type": "stream",
     "text": [
      "Processing LbCas12a_Cpf1\n"
     ]
    },
    {
     "name": "stderr",
     "output_type": "stream",
     "text": [
      "100%|██████████| 3228/3228 [00:22<00:00, 141.01it/s]\n",
      "100%|██████████| 40000/40000 [07:06<00:00, 93.84it/s]    \n",
      "Total 1 device(s) found.\n",
      "Loading input file...\n",
      "Reading ../../data/hxb2.fasta...\n",
      "Sending data to devices...\n",
      "Chunk load started.\n",
      "1 devices selected to analyze...\n",
      "Finding pattern in chunk #1...\n",
      "Comparing patterns in chunk #1...\n",
      "37.6764 seconds elapsed.\n"
     ]
    },
    {
     "name": "stdout",
     "output_type": "stream",
     "text": [
      "Processing LbCas12a_Cpf1 0\n"
     ]
    },
    {
     "name": "stderr",
     "output_type": "stream",
     "text": [
      "Total 1 device(s) found.\n",
      "Loading input file...\n",
      "Reading ../../data/test.fasta...\n",
      "Sending data to devices...\n",
      "Chunk load started.\n",
      "1 devices selected to analyze...\n",
      "Finding pattern in chunk #1...\n",
      "Comparing patterns in chunk #1...\n",
      "46.8053 seconds elapsed.\n",
      "Total 1 device(s) found.\n",
      "Loading input file...\n",
      "Reading ../../data/GRCh38.fna...\n",
      "Sending data to devices...\n",
      "Chunk load started.\n",
      "1 devices selected to analyze...\n",
      "Finding pattern in chunk #1...\n",
      "Comparing patterns in chunk #1...\n",
      "1 devices selected to analyze...\n",
      "Finding pattern in chunk #2...\n",
      "Comparing patterns in chunk #2...\n",
      "37.6444 seconds elapsed.\n"
     ]
    },
    {
     "name": "stdout",
     "output_type": "stream",
     "text": [
      "Processing LbCas12a_Cpf1 1\n"
     ]
    },
    {
     "name": "stderr",
     "output_type": "stream",
     "text": [
      "Total 1 device(s) found.\n",
      "Loading input file...\n",
      "Reading ../../data/test.fasta...\n",
      "Sending data to devices...\n",
      "Chunk load started.\n",
      "1 devices selected to analyze...\n",
      "Finding pattern in chunk #1...\n",
      "Comparing patterns in chunk #1...\n",
      "58.3309 seconds elapsed.\n",
      "Total 1 device(s) found.\n",
      "Loading input file...\n",
      "Reading ../../data/GRCh38.fna...\n",
      "Sending data to devices...\n",
      "Chunk load started.\n",
      "1 devices selected to analyze...\n",
      "Finding pattern in chunk #1...\n",
      "Comparing patterns in chunk #1...\n",
      "1 devices selected to analyze...\n",
      "Finding pattern in chunk #2...\n",
      "Comparing patterns in chunk #2...\n",
      "53.8149 seconds elapsed.\n"
     ]
    },
    {
     "name": "stdout",
     "output_type": "stream",
     "text": [
      "Processing LbCas12a_Cpf1 2\n"
     ]
    },
    {
     "name": "stderr",
     "output_type": "stream",
     "text": [
      "Total 1 device(s) found.\n",
      "Loading input file...\n",
      "Reading ../../data/test.fasta...\n",
      "Sending data to devices...\n",
      "Chunk load started.\n",
      "1 devices selected to analyze...\n",
      "Finding pattern in chunk #1...\n",
      "Comparing patterns in chunk #1...\n",
      "72.9805 seconds elapsed.\n",
      "Total 1 device(s) found.\n",
      "Loading input file...\n",
      "Reading ../../data/GRCh38.fna...\n",
      "Sending data to devices...\n",
      "Chunk load started.\n",
      "1 devices selected to analyze...\n",
      "Finding pattern in chunk #1...\n",
      "Comparing patterns in chunk #1...\n",
      "1 devices selected to analyze...\n",
      "Finding pattern in chunk #2...\n",
      "Comparing patterns in chunk #2...\n",
      "156.607 seconds elapsed.\n"
     ]
    },
    {
     "name": "stdout",
     "output_type": "stream",
     "text": [
      "Processing LbCas12a_Cpf1 3\n"
     ]
    },
    {
     "name": "stderr",
     "output_type": "stream",
     "text": [
      "Total 1 device(s) found.\n",
      "Loading input file...\n",
      "Reading ../../data/test.fasta...\n",
      "Sending data to devices...\n",
      "Chunk load started.\n",
      "1 devices selected to analyze...\n",
      "Finding pattern in chunk #1...\n",
      "Comparing patterns in chunk #1...\n",
      "91.7136 seconds elapsed.\n",
      "Total 1 device(s) found.\n",
      "Loading input file...\n",
      "Reading ../../data/GRCh38.fna...\n",
      "Sending data to devices...\n",
      "Chunk load started.\n",
      "1 devices selected to analyze...\n",
      "Finding pattern in chunk #1...\n",
      "Comparing patterns in chunk #1...\n",
      "1 devices selected to analyze...\n",
      "Finding pattern in chunk #2...\n",
      "Comparing patterns in chunk #2...\n",
      "391.107 seconds elapsed.\n"
     ]
    },
    {
     "name": "stdout",
     "output_type": "stream",
     "text": [
      "Processing LbCas12a_Cpf1 4\n"
     ]
    },
    {
     "name": "stderr",
     "output_type": "stream",
     "text": [
      "Total 1 device(s) found.\n",
      "Loading input file...\n",
      "Reading ../../data/test.fasta...\n",
      "Sending data to devices...\n",
      "Chunk load started.\n",
      "1 devices selected to analyze...\n",
      "Finding pattern in chunk #1...\n",
      "Comparing patterns in chunk #1...\n",
      "107.716 seconds elapsed.\n",
      "Total 1 device(s) found.\n",
      "Loading input file...\n",
      "Reading ../../data/GRCh38.fna...\n",
      "Sending data to devices...\n",
      "Chunk load started.\n",
      "1 devices selected to analyze...\n",
      "Finding pattern in chunk #1...\n",
      "Comparing patterns in chunk #1...\n",
      "1 devices selected to analyze...\n",
      "Finding pattern in chunk #2...\n",
      "Comparing patterns in chunk #2...\n",
      "686.13 seconds elapsed.\n"
     ]
    }
   ],
   "source": [
    "for cas in cas_templates:\n",
    "    print('Processing', cas.name)\n",
    "    # Pre-calculate the things independent of mismatch value\n",
    "    nominated, protospacer_counts = NDNFPipeline.nominate(cas, nomination_seqs, \n",
    "                                                          top_n=TOP_N_KMERS, \n",
    "                                                          return_counts=True)\n",
    "    diversed = nominated.diversify(DIVERSITY_TARGET)\n",
    "    \n",
    "    ref_diversed = diversed.reference_map(REFERENCE_FASTA, mismatch=3, enforce_pam=False)\n",
    "    ref_diversed['num_lethal'] = ref_diversed['start'].map(lethal_count)\n",
    "    ref_diversed['mean_rc'] = ref_diversed['start'].map(rc_scores)\n",
    "    ref_diversed['cas'] = cas.name\n",
    "    ref_diversed['pam_motif'] = cas.pam_motif\n",
    "    \n",
    "    for nmiss in [0, 1, 2, 3, 4]:\n",
    "        print('Processing', cas.name, nmiss)\n",
    "        fname = f'{cas.name}.{nmiss}.info.csv'\n",
    "        if not os.path.exists(fname):\n",
    "            process_cas(cas, nmiss, protospacer_counts, diversed, ref_diversed.copy()).to_csv(fname, index=False)"
   ]
  },
  {
   "cell_type": "code",
   "execution_count": null,
   "id": "5a7de706-98b5-4cd6-b9bb-3bfc2d9537be",
   "metadata": {},
   "outputs": [],
   "source": []
  }
 ],
 "metadata": {
  "kernelspec": {
   "display_name": "Python 3 (ipykernel)",
   "language": "python",
   "name": "python3"
  },
  "language_info": {
   "codemirror_mode": {
    "name": "ipython",
    "version": 3
   },
   "file_extension": ".py",
   "mimetype": "text/x-python",
   "name": "python",
   "nbconvert_exporter": "python",
   "pygments_lexer": "ipython3",
   "version": "3.9.16"
  }
 },
 "nbformat": 4,
 "nbformat_minor": 5
}
