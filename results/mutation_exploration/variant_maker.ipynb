{
 "cells": [
  {
   "cell_type": "code",
   "execution_count": 1,
   "id": "cf162f32-9c34-4887-a32b-051af184c3aa",
   "metadata": {},
   "outputs": [],
   "source": [
    "from Bio import SeqIO\n",
    "import matplotlib.pyplot as plt\n",
    "import seaborn as sns\n",
    "import numpy as np\n",
    "import pandas as pd\n",
    "import os"
   ]
  },
  {
   "cell_type": "code",
   "execution_count": 2,
   "id": "9a7b4712-0d75-41bf-adbc-cb7384b5f486",
   "metadata": {},
   "outputs": [],
   "source": [
    "import sys\n",
    "sys.path.append('../../code')\n",
    "import visualize\n",
    "from crispr import CasTemplate\n",
    "from pipeline import NDNFPipeline"
   ]
  },
  {
   "cell_type": "code",
   "execution_count": 3,
   "id": "fb6c8afe-5cec-46cd-933a-4390da9eec85",
   "metadata": {},
   "outputs": [],
   "source": [
    "\n",
    "cas_templates = [CasTemplate(pam_motif = 'NNGRRT', typ='II', \n",
    "                             protospacer_length=20, name='SaCas9-WT'),\n",
    "                 CasTemplate(pam_motif = 'NNNRRT', typ='II', \n",
    "                             protospacer_length=20, name='SaCas9-KKH-N'),\n",
    "                 CasTemplate(pam_motif = 'NNCRRT', typ='II', \n",
    "                             protospacer_length=20, name='SaCas9-KKH-C'),\n",
    "                 CasTemplate(pam_motif = 'NNTRRT', typ='II', \n",
    "                             protospacer_length=20, name='SaCas9-KKH-T'),\n",
    "                 CasTemplate(pam_motif = 'NNARRT', typ='II', \n",
    "                             protospacer_length=20, name='SaCas9-KKH-A'),\n",
    "                 CasTemplate(pam_motif = 'NGG', typ='II', \n",
    "                             protospacer_length=20, name='SpCas9-WT'),\n",
    "                 CasTemplate(pam_motif = 'NGAG', typ='II', \n",
    "                             protospacer_length=20, name='SpCas9-EQR'),\n",
    "                 CasTemplate(pam_motif = 'NGA', typ='II', \n",
    "                             protospacer_length=20, name='SpCas9-VQR'),\n",
    "                 CasTemplate(pam_motif = 'NGCG', typ='II', \n",
    "                             protospacer_length=20, name='SpCas9-VRER'),\n",
    "                 CasTemplate(pam_motif = 'NG', typ='II', \n",
    "                             protospacer_length=20, name='SpCas9-NG'),\n",
    "                 CasTemplate(pam_motif = 'NRN', typ='II', \n",
    "                             protospacer_length=20, name='SpRY'),\n",
    "                 CasTemplate(pam_motif = 'TTTV', typ='V', \n",
    "                             protospacer_length=20, name='Cpf1-TTTV'),\n",
    "                 CasTemplate(pam_motif = 'TTTN', typ='V', \n",
    "                             protospacer_length=20, name='Cpf1-TTTN'),\n",
    "                 CasTemplate(pam_motif = 'TYCV', typ='V', \n",
    "                             protospacer_length=20, name='Cpf1-TYCV'),\n",
    "                 CasTemplate(pam_motif = 'TATV', typ='V', \n",
    "                             protospacer_length=20, name='Cpf1-TATV'),\n",
    "                 CasTemplate(pam_motif = 'TTTR', typ='V', \n",
    "                             protospacer_length=20, name='Cpf1-TTTR'),\n",
    "                ]\n",
    "                 "
   ]
  },
  {
   "cell_type": "code",
   "execution_count": 4,
   "id": "6d817ada-a238-496a-8d2b-2ca0f9a55176",
   "metadata": {},
   "outputs": [],
   "source": [
    "# Path to a collection of HIV sequences to use as the nomination set.\n",
    "NOMINATE_FASTA = '../../data/nominate.fasta'\n",
    "\n",
    "# Path to a collection of HIV sequences to use as the validation set.\n",
    "VALIDATE_FASTA = '../../data/test.fasta'\n",
    "\n",
    "# Path to a single HIV sequence to use as the common reference position set.\n",
    "REFERENCE_FASTA = '../../data/hxb2.fasta'\n",
    "\n",
    "# Path to an off-target reference genome.\n",
    "OFFTARGET_REF = '../../data/GRCh38.fna'\n",
    "\n",
    "# The number of protospacers to extract from the nomination set.\n",
    "TOP_N_KMERS = 20_000\n",
    "\n",
    "# The target number of protospacers after diversification.\n",
    "DIVERSITY_TARGET = TOP_N_KMERS*2\n",
    "\n",
    "MISMATCH = 2\n",
    "BROAD_SPECTRUM = 0.9\n",
    "MAX_OFF = 0"
   ]
  },
  {
   "cell_type": "code",
   "execution_count": 5,
   "id": "f669a973-7cf3-4f71-97b2-200bd65b854f",
   "metadata": {},
   "outputs": [
    {
     "name": "stdout",
     "output_type": "stream",
     "text": [
      "Loading 3228 sequences with a total of 28.73 Mbp for nomination.\n"
     ]
    }
   ],
   "source": [
    "with open(NOMINATE_FASTA) as handle:\n",
    "    nomination_seqs = list(SeqIO.parse(handle, 'fasta'))\n",
    "num_nom = len(nomination_seqs)\n",
    "len_nom = sum(len(seqR.seq) for seqR in nomination_seqs)/1_000_000\n",
    "print(f'Loading {num_nom} sequences with a total of {len_nom:0.2f} Mbp for nomination.')"
   ]
  },
  {
   "cell_type": "code",
   "execution_count": 6,
   "id": "7abcf397-2689-4bc7-ad75-9fb51d8769c5",
   "metadata": {},
   "outputs": [],
   "source": [
    "MUT_DATA = pd.read_csv('../../data/mutation_scores.csv')\n",
    "\n",
    "def rc_scores(start, width=20):\n",
    "    \n",
    "    mask = (MUT_DATA['Position'] <= (start+width)) & (MUT_DATA['Position'] >= (start-width))\n",
    "    mean_rc = MUT_DATA.loc[mask, 'RC Index'].mean()\n",
    "    \n",
    "    return mean_rc\n",
    "\n",
    "def lethal_count(start, width=20):\n",
    "    \n",
    "    mask = (MUT_DATA['Position'] <= (start+width)) & (MUT_DATA['Position'] >= (start-width))\n",
    "    num_lethal = (MUT_DATA.loc[mask, 'Effect'] == \"lethal\").sum()\n",
    "    \n",
    "    return num_lethal\n",
    "\n",
    "def process_cas(cas):\n",
    "    \n",
    "    nominated, protospacer_counts = NDNFPipeline.nominate(cas, nomination_seqs, \n",
    "                                                          top_n=TOP_N_KMERS, \n",
    "                                                          return_counts=True)\n",
    "    diversed = nominated.diversify(DIVERSITY_TARGET)\n",
    "    narrowed, protospacer_hist_freq = diversed.narrow(VALIDATE_FASTA, min_rate=0.5, return_freqs=True,\n",
    "                                                      mismatch=MISMATCH)\n",
    "    good_hits, off_target_counts = narrowed.filter(OFFTARGET_REF, \n",
    "                                               mismatch = MISMATCH, \n",
    "                                               return_counts=True)\n",
    "    ref_diversed = diversed.reference_map(REFERENCE_FASTA, mismatch=3, enforce_pam=False)\n",
    "    ref_diversed['on_target_freq'] = ref_diversed['protospacer'].map(protospacer_hist_freq.get)\n",
    "    ref_diversed['off_target_hits'] = ref_diversed['protospacer'].map(off_target_counts.get)\n",
    "    ref_diversed['num_lethal'] = ref_diversed['start'].map(lethal_count)\n",
    "    ref_diversed['mean_rc'] = ref_diversed['start'].map(rc_scores)\n",
    "    ref_diversed['cas'] = cas.name\n",
    "    ref_diversed['pam_motif'] = cas.pam_motif\n",
    "    return ref_diversed\n",
    "    "
   ]
  },
  {
   "cell_type": "code",
   "execution_count": 7,
   "id": "52d9f215-afb2-46d4-8b3c-9216676d0ee2",
   "metadata": {},
   "outputs": [
    {
     "name": "stdout",
     "output_type": "stream",
     "text": [
      "Processing SaCas9-WT\n",
      "Processing SaCas9-KKH-N\n",
      "Processing SaCas9-KKH-C\n",
      "Processing SaCas9-KKH-T\n",
      "Processing SaCas9-KKH-A\n",
      "Processing SpCas9-WT\n",
      "Processing SpCas9-EQR\n",
      "Processing SpCas9-VQR\n",
      "Processing SpCas9-VRER\n",
      "Processing SpCas9-NG\n",
      "Processing SpRY\n",
      "Processing Cpf1-TTTV\n"
     ]
    },
    {
     "name": "stderr",
     "output_type": "stream",
     "text": [
      "100%|██████████| 3228/3228 [00:15<00:00, 208.92it/s]\n",
      "100%|██████████| 40000/40000 [07:08<00:00, 93.41it/s]    \n",
      "Total 1 device(s) found.\n",
      "Loading input file...\n",
      "Reading ../../data/test.fasta...\n",
      "Sending data to devices...\n",
      "Chunk load started.\n",
      "1 devices selected to analyze...\n",
      "Finding pattern in chunk #1...\n",
      "Comparing patterns in chunk #1...\n",
      "59.678 seconds elapsed.\n",
      "Total 1 device(s) found.\n",
      "Loading input file...\n",
      "Reading ../../data/GRCh38.fna...\n",
      "Sending data to devices...\n",
      "Chunk load started.\n",
      "1 devices selected to analyze...\n",
      "Finding pattern in chunk #1...\n",
      "Comparing patterns in chunk #1...\n",
      "1 devices selected to analyze...\n",
      "Finding pattern in chunk #2...\n",
      "Comparing patterns in chunk #2...\n",
      "62.7988 seconds elapsed.\n",
      "Total 1 device(s) found.\n",
      "Loading input file...\n",
      "Reading ../../data/hxb2.fasta...\n",
      "Sending data to devices...\n",
      "Chunk load started.\n",
      "1 devices selected to analyze...\n",
      "Finding pattern in chunk #1...\n",
      "Comparing patterns in chunk #1...\n",
      "30.8564 seconds elapsed.\n"
     ]
    },
    {
     "name": "stdout",
     "output_type": "stream",
     "text": [
      "Processing Cpf1-TTTN\n"
     ]
    },
    {
     "name": "stderr",
     "output_type": "stream",
     "text": [
      "100%|██████████| 3228/3228 [00:31<00:00, 102.37it/s]\n",
      "100%|██████████| 40000/40000 [07:30<00:00, 88.80it/s]    \n",
      "Total 1 device(s) found.\n",
      "Loading input file...\n",
      "Reading ../../data/test.fasta...\n",
      "Sending data to devices...\n",
      "Chunk load started.\n",
      "1 devices selected to analyze...\n",
      "Finding pattern in chunk #1...\n",
      "Comparing patterns in chunk #1...\n",
      "72.6244 seconds elapsed.\n",
      "Total 1 device(s) found.\n",
      "Loading input file...\n",
      "Reading ../../data/GRCh38.fna...\n",
      "Sending data to devices...\n",
      "Chunk load started.\n",
      "1 devices selected to analyze...\n",
      "Finding pattern in chunk #1...\n",
      "Comparing patterns in chunk #1...\n",
      "1 devices selected to analyze...\n",
      "Finding pattern in chunk #2...\n",
      "Comparing patterns in chunk #2...\n",
      "153.579 seconds elapsed.\n",
      "Total 1 device(s) found.\n",
      "Loading input file...\n",
      "Reading ../../data/hxb2.fasta...\n",
      "Sending data to devices...\n",
      "Chunk load started.\n",
      "1 devices selected to analyze...\n",
      "Finding pattern in chunk #1...\n",
      "Comparing patterns in chunk #1...\n",
      "35.5842 seconds elapsed.\n"
     ]
    },
    {
     "name": "stdout",
     "output_type": "stream",
     "text": [
      "Processing Cpf1-TYCV\n"
     ]
    },
    {
     "name": "stderr",
     "output_type": "stream",
     "text": [
      "100%|██████████| 3228/3228 [00:23<00:00, 136.32it/s]\n",
      "100%|██████████| 40000/40000 [06:55<00:00, 96.16it/s]    \n",
      "Total 1 device(s) found.\n",
      "Loading input file...\n",
      "Reading ../../data/test.fasta...\n",
      "Sending data to devices...\n",
      "Chunk load started.\n",
      "1 devices selected to analyze...\n",
      "Finding pattern in chunk #1...\n",
      "Comparing patterns in chunk #1...\n",
      "58.7468 seconds elapsed.\n",
      "Total 1 device(s) found.\n",
      "Loading input file...\n",
      "Reading ../../data/GRCh38.fna...\n",
      "Sending data to devices...\n",
      "Chunk load started.\n",
      "1 devices selected to analyze...\n",
      "Finding pattern in chunk #1...\n",
      "Comparing patterns in chunk #1...\n",
      "1 devices selected to analyze...\n",
      "Finding pattern in chunk #2...\n",
      "Comparing patterns in chunk #2...\n",
      "92.6713 seconds elapsed.\n",
      "Total 1 device(s) found.\n",
      "Loading input file...\n",
      "Reading ../../data/hxb2.fasta...\n",
      "Sending data to devices...\n",
      "Chunk load started.\n",
      "1 devices selected to analyze...\n",
      "Finding pattern in chunk #1...\n",
      "Comparing patterns in chunk #1...\n",
      "35.9822 seconds elapsed.\n"
     ]
    },
    {
     "name": "stdout",
     "output_type": "stream",
     "text": [
      "Processing Cpf1-TATV\n"
     ]
    },
    {
     "name": "stderr",
     "output_type": "stream",
     "text": [
      "100%|██████████| 3228/3228 [00:11<00:00, 274.80it/s]\n",
      "100%|██████████| 40000/40000 [06:48<00:00, 97.82it/s]    \n",
      "Total 1 device(s) found.\n",
      "Loading input file...\n",
      "Reading ../../data/test.fasta...\n",
      "Sending data to devices...\n",
      "Chunk load started.\n",
      "1 devices selected to analyze...\n",
      "Finding pattern in chunk #1...\n",
      "Comparing patterns in chunk #1...\n",
      "53.7396 seconds elapsed.\n",
      "Total 1 device(s) found.\n",
      "Loading input file...\n",
      "Reading ../../data/GRCh38.fna...\n",
      "Sending data to devices...\n",
      "Chunk load started.\n",
      "1 devices selected to analyze...\n",
      "Finding pattern in chunk #1...\n",
      "Comparing patterns in chunk #1...\n",
      "1 devices selected to analyze...\n",
      "Finding pattern in chunk #2...\n",
      "Comparing patterns in chunk #2...\n",
      "45.3329 seconds elapsed.\n",
      "Total 1 device(s) found.\n",
      "Loading input file...\n",
      "Reading ../../data/hxb2.fasta...\n",
      "Sending data to devices...\n",
      "Chunk load started.\n",
      "1 devices selected to analyze...\n",
      "Finding pattern in chunk #1...\n",
      "Comparing patterns in chunk #1...\n",
      "34.6202 seconds elapsed.\n"
     ]
    },
    {
     "name": "stdout",
     "output_type": "stream",
     "text": [
      "Processing Cpf1-TTTR\n"
     ]
    },
    {
     "name": "stderr",
     "output_type": "stream",
     "text": [
      "100%|██████████| 3228/3228 [00:10<00:00, 309.67it/s]\n",
      "100%|██████████| 40000/40000 [06:48<00:00, 98.03it/s]    \n",
      "Total 1 device(s) found.\n",
      "Loading input file...\n",
      "Reading ../../data/test.fasta...\n",
      "Sending data to devices...\n",
      "Chunk load started.\n",
      "1 devices selected to analyze...\n",
      "Finding pattern in chunk #1...\n",
      "Comparing patterns in chunk #1...\n",
      "39.4866 seconds elapsed.\n",
      "Total 1 device(s) found.\n",
      "Loading input file...\n",
      "Reading ../../data/GRCh38.fna...\n",
      "Sending data to devices...\n",
      "Chunk load started.\n",
      "1 devices selected to analyze...\n",
      "Finding pattern in chunk #1...\n",
      "Comparing patterns in chunk #1...\n",
      "1 devices selected to analyze...\n",
      "Finding pattern in chunk #2...\n",
      "Comparing patterns in chunk #2...\n",
      "45.798 seconds elapsed.\n",
      "Total 1 device(s) found.\n",
      "Loading input file...\n",
      "Reading ../../data/hxb2.fasta...\n",
      "Sending data to devices...\n",
      "Chunk load started.\n",
      "1 devices selected to analyze...\n",
      "Finding pattern in chunk #1...\n",
      "Comparing patterns in chunk #1...\n",
      "36.1562 seconds elapsed.\n"
     ]
    }
   ],
   "source": [
    "for cas in cas_templates:\n",
    "    print('Processing', cas.name)\n",
    "    fname = f'{cas.name}.info.csv'\n",
    "    if not os.path.exists(fname):\n",
    "        process_cas(cas).to_csv(fname, index=False)\n"
   ]
  },
  {
   "cell_type": "code",
   "execution_count": null,
   "id": "58ca9ac4-7f02-405f-87dd-988fd0132edb",
   "metadata": {},
   "outputs": [],
   "source": []
  }
 ],
 "metadata": {
  "kernelspec": {
   "display_name": "Python 3 (ipykernel)",
   "language": "python",
   "name": "python3"
  },
  "language_info": {
   "codemirror_mode": {
    "name": "ipython",
    "version": 3
   },
   "file_extension": ".py",
   "mimetype": "text/x-python",
   "name": "python",
   "nbconvert_exporter": "python",
   "pygments_lexer": "ipython3",
   "version": "3.9.16"
  }
 },
 "nbformat": 4,
 "nbformat_minor": 5
}
