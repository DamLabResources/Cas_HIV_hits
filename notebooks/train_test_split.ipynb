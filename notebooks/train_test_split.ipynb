{
 "cells": [
  {
   "cell_type": "markdown",
   "id": "28647015-08aa-4f45-a71a-55a868746cfd",
   "metadata": {},
   "source": [
    "# LANL Splitting"
   ]
  },
  {
   "cell_type": "markdown",
   "id": "af27a723-0585-4669-9f06-44f94a689e13",
   "metadata": {},
   "source": [
    "This notebook splits the LANL database into a nomination cohort and a validation cohort.\n",
    "The validation cohort is balanced to match the global HIV prevelence."
   ]
  },
  {
   "cell_type": "code",
   "execution_count": 1,
   "id": "97f03286-df08-4bfe-8988-d02ff1371379",
   "metadata": {},
   "outputs": [],
   "source": [
    "from Bio import SeqIO\n",
    "import pandas as pd\n",
    "import seaborn as sns\n",
    "import matplotlib.pyplot as plt"
   ]
  },
  {
   "cell_type": "markdown",
   "id": "4f70a68f-5c32-4911-9ba8-e5149fbdea8c",
   "metadata": {
    "tags": []
   },
   "source": [
    "https://www.thelancet.com/journals/laninf/article/PIIS1473-3099(18)30647-9/fulltext?rss=yes#relatedClinic\n",
    "\n",
    "This systematic review and global survey yielded 2203 datasets with 383 519 samples from 116 countries in 1990–2015. Globally, subtype C accounted for 46.6% (16 280 897/34 921 639 of PLHIV) of all HIV-1 infections in 2010–15. Subtype B was responsible for 12.1% (4 235 299/34 921 639) of infections, followed by subtype A (10.3%; 3 587 003/34 921 639), CRF02_AG (7.7%; 2 705 110/34 921 639), CRF01_AE (5.3%; 1 840 982/34 921 639), subtype G (4.6%; 1 591 276/34 921 639), and subtype D (2.7%; 926 255/34 921 639). Subtypes F, H, J, and K combined accounted for 0.9% (311 332/34 921 639) of infections."
   ]
  },
  {
   "cell_type": "code",
   "execution_count": 2,
   "id": "baf349b4-ffb8-4979-97fc-96578a316f84",
   "metadata": {},
   "outputs": [
    {
     "data": {
      "text/plain": [
       "{'B': 0.121,\n",
       " 'A': 0.103,\n",
       " 'C': 0.466,\n",
       " '02_AG': 0.077,\n",
       " '01_AE': 0.053,\n",
       " 'G': 0.046,\n",
       " 'D': 0.027,\n",
       " 'other': 0.10699999999999998}"
      ]
     },
     "execution_count": 2,
     "metadata": {},
     "output_type": "execute_result"
    }
   ],
   "source": [
    "# From above\n",
    "target_dist = {'B': 0.121, 'A': 0.103, 'C': 0.466, '02_AG': 0.077,  '01_AE': 0.053, 'G': 0.046, 'D': 0.027}\n",
    "target_dist['other'] = 1-sum(target_dist.values())\n",
    "target_dist"
   ]
  },
  {
   "cell_type": "code",
   "execution_count": 3,
   "id": "fd3cec24-d50c-4bc1-acf3-f9a561c9de00",
   "metadata": {},
   "outputs": [],
   "source": [
    "SOURCE_DATA = '../data/LANL.reference.fasta'"
   ]
  },
  {
   "cell_type": "code",
   "execution_count": 4,
   "id": "062e246b-d604-461c-ab5a-ae5a945d89cd",
   "metadata": {},
   "outputs": [],
   "source": [
    "def get_subtype(st):\n",
    "    \"\"\" Extract suptype information from:\n",
    "    A.CH.03.HIV_CH_BID_V3538_2003.JQ403028\n",
    "    \"\"\"\n",
    "    \n",
    "    subtype = st.split('.')[0]\n",
    "    \n",
    "    if subtype[0].isalpha():\n",
    "        # Handle A1, B2, A3, etc sub-subtypes\n",
    "        subtype = subtype[0]\n",
    "        \n",
    "    if subtype not in target_dist:\n",
    "        subtype = 'other'\n",
    "    return subtype"
   ]
  },
  {
   "cell_type": "code",
   "execution_count": 5,
   "id": "f7b67efb-e66a-4b7c-8cdc-2abf96036815",
   "metadata": {},
   "outputs": [
    {
     "data": {
      "text/html": [
       "<div>\n",
       "<style scoped>\n",
       "    .dataframe tbody tr th:only-of-type {\n",
       "        vertical-align: middle;\n",
       "    }\n",
       "\n",
       "    .dataframe tbody tr th {\n",
       "        vertical-align: top;\n",
       "    }\n",
       "\n",
       "    .dataframe thead th {\n",
       "        text-align: right;\n",
       "    }\n",
       "</style>\n",
       "<table border=\"1\" class=\"dataframe\">\n",
       "  <thead>\n",
       "    <tr style=\"text-align: right;\">\n",
       "      <th></th>\n",
       "      <th>id</th>\n",
       "      <th>seq</th>\n",
       "      <th>subtype</th>\n",
       "    </tr>\n",
       "  </thead>\n",
       "  <tbody>\n",
       "    <tr>\n",
       "      <th>0</th>\n",
       "      <td>B.FR.83.HXB2_LAI_IIIB_BRU.K03455</td>\n",
       "      <td>TGGAAGGGCTAATTCACTCCCAACGAAGACAAGATATCCTTGATCT...</td>\n",
       "      <td>B</td>\n",
       "    </tr>\n",
       "    <tr>\n",
       "      <th>1</th>\n",
       "      <td>A.CD.87.P4039.MH705157</td>\n",
       "      <td>GGATGGGTTAATTTACTCCCGGAAAAGACAAGAGATCCTTGATCTG...</td>\n",
       "      <td>A</td>\n",
       "    </tr>\n",
       "    <tr>\n",
       "      <th>2</th>\n",
       "      <td>A.CH.03.HIV_CH_BID_V3538_2003.JQ403028</td>\n",
       "      <td>ATGGGTGCGAGAGCGTCAATATTAAGCGGGGGAAAATTAGATGCAT...</td>\n",
       "      <td>A</td>\n",
       "    </tr>\n",
       "    <tr>\n",
       "      <th>3</th>\n",
       "      <td>A.ZA.04.04ZASK162B1.DQ396400</td>\n",
       "      <td>TCTGTTGTGTGGCTCTGGTAACTAGAGATCCCTCAGACCACTCTAG...</td>\n",
       "      <td>A</td>\n",
       "    </tr>\n",
       "    <tr>\n",
       "      <th>4</th>\n",
       "      <td>A1.AU.03.PS1044_Day0.DQ676872</td>\n",
       "      <td>ATGGGTGCGAGAGCGTCAATATTAAGCGGGGGAAGATTAGATGCAT...</td>\n",
       "      <td>A</td>\n",
       "    </tr>\n",
       "  </tbody>\n",
       "</table>\n",
       "</div>"
      ],
      "text/plain": [
       "                                       id  \\\n",
       "0        B.FR.83.HXB2_LAI_IIIB_BRU.K03455   \n",
       "1                  A.CD.87.P4039.MH705157   \n",
       "2  A.CH.03.HIV_CH_BID_V3538_2003.JQ403028   \n",
       "3            A.ZA.04.04ZASK162B1.DQ396400   \n",
       "4           A1.AU.03.PS1044_Day0.DQ676872   \n",
       "\n",
       "                                                 seq subtype  \n",
       "0  TGGAAGGGCTAATTCACTCCCAACGAAGACAAGATATCCTTGATCT...       B  \n",
       "1  GGATGGGTTAATTTACTCCCGGAAAAGACAAGAGATCCTTGATCTG...       A  \n",
       "2  ATGGGTGCGAGAGCGTCAATATTAAGCGGGGGAAAATTAGATGCAT...       A  \n",
       "3  TCTGTTGTGTGGCTCTGGTAACTAGAGATCCCTCAGACCACTCTAG...       A  \n",
       "4  ATGGGTGCGAGAGCGTCAATATTAAGCGGGGGAAGATTAGATGCAT...       A  "
      ]
     },
     "execution_count": 5,
     "metadata": {},
     "output_type": "execute_result"
    }
   ],
   "source": [
    "seqs = []\n",
    "\n",
    "with open(SOURCE_DATA) as handle:\n",
    "    for seqR in SeqIO.parse(handle, 'fasta'):\n",
    "        seqs.append({'id': seqR.id, 'seq': str(seqR.seq),\n",
    "                     'subtype': get_subtype(seqR.id)})\n",
    "\n",
    "seqs = pd.DataFrame(seqs)\n",
    "seqs.head()"
   ]
  },
  {
   "cell_type": "code",
   "execution_count": 6,
   "id": "3678f315-d36c-40ec-bb72-f641f32532d6",
   "metadata": {
    "tags": []
   },
   "outputs": [],
   "source": [
    "def subtype_sampling(target_values, seq_df, target_n, random_state):\n",
    "    \n",
    "    test = []\n",
    "    \n",
    "    for subtype, freq in target_values.items():\n",
    "        mask = seq_df['subtype']==subtype\n",
    "        print(subtype, int(target_n*freq), mask.sum())\n",
    "        test.append(seq_df.loc[mask].sample(random_state = random_state,\n",
    "                                            n = int(target_n*freq)))\n",
    "        \n",
    "    test_df = pd.concat(test,axis=0)\n",
    "    nomination_df = seq_df.drop(test_df.index)\n",
    "    \n",
    "    return test_df, nomination_df\n",
    "    \n",
    "def frame2fasta(df, path):\n",
    "    \n",
    "    with open(path, 'w') as handle:\n",
    "        for _, row in df.iterrows():\n",
    "            handle.write(f'>{row[\"id\"]}\\n{row[\"seq\"]}\\n')\n",
    "    \n",
    "    "
   ]
  },
  {
   "cell_type": "code",
   "execution_count": 7,
   "id": "b69bd09f-d22d-4a7a-b30b-5da86ecc9004",
   "metadata": {},
   "outputs": [
    {
     "name": "stdout",
     "output_type": "stream",
     "text": [
      "random_state 0\n",
      "B 181 1615\n",
      "A 154 532\n",
      "C 699 827\n",
      "02_AG 115 148\n",
      "01_AE 79 420\n",
      "G 69 92\n",
      "D 40 82\n",
      "other 160 1009\n",
      "\n",
      "random_state 1\n",
      "B 181 1615\n",
      "A 154 532\n",
      "C 699 827\n",
      "02_AG 115 148\n",
      "01_AE 79 420\n",
      "G 69 92\n",
      "D 40 82\n",
      "other 160 1009\n",
      "\n",
      "random_state 2\n",
      "B 181 1615\n",
      "A 154 532\n",
      "C 699 827\n",
      "02_AG 115 148\n",
      "01_AE 79 420\n",
      "G 69 92\n",
      "D 40 82\n",
      "other 160 1009\n",
      "\n",
      "random_state 3\n",
      "B 181 1615\n",
      "A 154 532\n",
      "C 699 827\n",
      "02_AG 115 148\n",
      "01_AE 79 420\n",
      "G 69 92\n",
      "D 40 82\n",
      "other 160 1009\n",
      "\n",
      "random_state 4\n",
      "B 181 1615\n",
      "A 154 532\n",
      "C 699 827\n",
      "02_AG 115 148\n",
      "01_AE 79 420\n",
      "G 69 92\n",
      "D 40 82\n",
      "other 160 1009\n",
      "\n"
     ]
    }
   ],
   "source": [
    "target = 1500\n",
    "\n",
    "for state in range(5):\n",
    "    print('random_state', state)\n",
    "    tdf, ndf = subtype_sampling(target_dist, seqs, target, state)\n",
    "    print()\n",
    "    frame2fasta(ndf, f'../data/nominate.{state}.fasta')\n",
    "    frame2fasta(tdf, f'../data/test.{state}.fasta')"
   ]
  },
  {
   "cell_type": "code",
   "execution_count": 8,
   "id": "04eaecbf-59bb-40ea-8c98-cccaf82e19d2",
   "metadata": {},
   "outputs": [
    {
     "data": {
      "image/png": "[encoded data removed]",
      "text/plain": [
       "<Figure size 800x400 with 3 Axes>"
      ]
     },
     "metadata": {},
     "output_type": "display_data"
    }
   ],
   "source": [
    "fig, (orig_ax, nom_ax, valid_ax) = plt.subplots(1, 3, figsize=(8,4), sharex=True, sharey=True)\n",
    "\n",
    "\n",
    "orig_ax = sns.countplot(data = seqs,\n",
    "                   x = 'subtype',\n",
    "                   order = target_dist.keys(),\n",
    "                   ax = orig_ax)\n",
    "orig_ax.set_title('LANL')\n",
    "\n",
    "sns.countplot(data = ndf,\n",
    "                   x = 'subtype',\n",
    "                   order = target_dist.keys(),\n",
    "                   ax=nom_ax)\n",
    "nom_ax.set_title('Nomination Set')\n",
    "nom_ax.set_ylabel('')\n",
    "\n",
    "\n",
    "sns.countplot(data = tdf,\n",
    "                   x = 'subtype',\n",
    "                   order = target_dist.keys(),\n",
    "                   ax=valid_ax)\n",
    "valid_ax.set_title('Validation Set')\n",
    "valid_ax.set_ylabel('')\n",
    "\n",
    "for ax in (orig_ax, nom_ax, valid_ax):\n",
    "    \n",
    "    ax.set_xticklabels(target_dist.keys(), rotation=45)\n",
    "    ax.set_ylim(0, 1800)\n",
    "    sns.despine(ax=ax)\n",
    "    \n",
    "fig.tight_layout()\n",
    "fig.savefig('../results/dataset_figures/splitting.high.png', dpi=300)\n",
    "fig.savefig('../results/dataset_figures/splitting.low.png', dpi=300)"
   ]
  },
  {
   "cell_type": "code",
   "execution_count": 9,
   "id": "55b63e6d-c101-44ff-822e-e443a08d0dd5",
   "metadata": {},
   "outputs": [],
   "source": [
    "with open('../results/datasplit.yaml', 'w') as handle:\n",
    "    handle.write(f'nominate_seqs: {len(ndf.index)}\\n')\n",
    "    handle.write(f'test_seqs: {len(tdf.index)}\\n')"
   ]
  },
  {
   "cell_type": "code",
   "execution_count": null,
   "id": "6632babf-4893-414d-a351-a5240de631e6",
   "metadata": {},
   "outputs": [],
   "source": []
  }
 ],
 "metadata": {
  "kernelspec": {
   "display_name": "Python 3 (ipykernel)",
   "language": "python",
   "name": "python3"
  },
  "language_info": {
   "codemirror_mode": {
    "name": "ipython",
    "version": 3
   },
   "file_extension": ".py",
   "mimetype": "text/x-python",
   "name": "python",
   "nbconvert_exporter": "python",
   "pygments_lexer": "ipython3",
   "version": "3.9.15"
  }
 },
 "nbformat": 4,
 "nbformat_minor": 5
}
